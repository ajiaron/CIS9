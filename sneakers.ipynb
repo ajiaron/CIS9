{
 "cells": [
  {
   "cell_type": "markdown",
   "id": "d03a1a00",
   "metadata": {},
   "source": [
    "Name: Aaron Jiang\n",
    "\n",
    "Project Description:\n",
    "\n",
    "This notebook aims to analyze the market performance of each brand of sneakers through plots, before constructing a model to predict the last/most recent sale of a sneaker on the marketplace site, StockX.com. The input data shown below was obtained from webscraping the site's Sneakers catalog, from pages 1 through 25. The type of data includes the name of the sneaker, the brand, release date, current asks and bids, number of sales this quarter, annual high/low, volidity, average deadstock (fresh out of box) value, price premium, and change percentage.\n",
    "\n",
    "As for why I had chosen this topic, I actually attempted to do this project around fall quarter, after taking your CIS 41A course. Looking back at that attempt, I barely got the webscraping to work, and trying to make a meaningful analysis without knowledge of pandas was much more complicated than it needed to be. I had been thinking to reattempt this project with what I know now, which is why I had chosen this topic in specific. I also have sold a handful of products using StockX with some success, but not much."
   ]
  },
  {
   "cell_type": "markdown",
   "id": "ae84a788",
   "metadata": {},
   "source": [
    "Background Information:\n",
    "\n",
    "This dataset was very limited in it's number of brands and other market data, but I used these columns as a template to add onto.\n",
    "https://www.kaggle.com/datasets/hudsonstuck/stockx-data-contest\n",
    "\n",
    "This is my scraped data, published on kaggle.\n",
    "\n",
    "https://www.kaggle.com/datasets/ajiaron/stockx-sneaker-data\n",
    "\n",
    "Site catalog, from page 1-25. Each row is a tile on the catalog.\n",
    "\n",
    "https://stockx.com/sneakers?page=1"
   ]
  },
  {
   "cell_type": "markdown",
   "id": "1cfacc7a",
   "metadata": {},
   "source": [
    "Import necessary modules"
   ]
  },
  {
   "cell_type": "code",
   "execution_count": 72,
   "id": "af9bf9d0",
   "metadata": {},
   "outputs": [],
   "source": [
    "import numpy as np\n",
    "from scipy import stats\n",
    "import pandas as pd\n",
    "import matplotlib.pyplot as plt\n",
    "import matplotlib.colors as clr\n",
    "import seaborn as sns\n",
    "from sklearn.model_selection import train_test_split\n",
    "from sklearn import metrics\n",
    "import time\n",
    "%matplotlib inline\n",
    "plt.style.use('seaborn-whitegrid')"
   ]
  },
  {
   "cell_type": "markdown",
   "id": "2520c31b",
   "metadata": {},
   "source": [
    "Read file into dataframe, drop extra index column"
   ]
  },
  {
   "cell_type": "code",
   "execution_count": 73,
   "id": "58225c9d",
   "metadata": {},
   "outputs": [
    {
     "name": "stdout",
     "output_type": "stream",
     "text": [
      "# of rows: 1000 \n",
      "# of columns: 17\n"
     ]
    },
    {
     "data": {
      "text/html": [
       "<div>\n",
       "<style scoped>\n",
       "    .dataframe tbody tr th:only-of-type {\n",
       "        vertical-align: middle;\n",
       "    }\n",
       "\n",
       "    .dataframe tbody tr th {\n",
       "        vertical-align: top;\n",
       "    }\n",
       "\n",
       "    .dataframe thead th {\n",
       "        text-align: right;\n",
       "    }\n",
       "</style>\n",
       "<table border=\"1\" class=\"dataframe\">\n",
       "  <thead>\n",
       "    <tr style=\"text-align: right;\">\n",
       "      <th></th>\n",
       "      <th>item</th>\n",
       "      <th>brand</th>\n",
       "      <th>retail</th>\n",
       "      <th>release</th>\n",
       "      <th>lowestAsk</th>\n",
       "      <th>numberOfAsks</th>\n",
       "      <th>salesThisPeriod</th>\n",
       "      <th>highestBid</th>\n",
       "      <th>numberOfBids</th>\n",
       "      <th>annualHigh</th>\n",
       "      <th>annualLow</th>\n",
       "      <th>volatility</th>\n",
       "      <th>deadstockSold</th>\n",
       "      <th>pricePremium</th>\n",
       "      <th>averageDeadstockPrice</th>\n",
       "      <th>lastSale</th>\n",
       "      <th>changePercentage</th>\n",
       "    </tr>\n",
       "  </thead>\n",
       "  <tbody>\n",
       "    <tr>\n",
       "      <th>0</th>\n",
       "      <td>Jordan 4 Retro Infrared</td>\n",
       "      <td>Jordan</td>\n",
       "      <td>200</td>\n",
       "      <td>2022-06-15</td>\n",
       "      <td>238</td>\n",
       "      <td>1921</td>\n",
       "      <td>2554</td>\n",
       "      <td>300</td>\n",
       "      <td>1002</td>\n",
       "      <td>2043</td>\n",
       "      <td>216</td>\n",
       "      <td>0.027657</td>\n",
       "      <td>3306</td>\n",
       "      <td>0.285</td>\n",
       "      <td>287</td>\n",
       "      <td>257</td>\n",
       "      <td>0.011811</td>\n",
       "    </tr>\n",
       "    <tr>\n",
       "      <th>1</th>\n",
       "      <td>adidas Yeezy Foam RNR Onyx</td>\n",
       "      <td>adidas</td>\n",
       "      <td>80</td>\n",
       "      <td>2022-06-08</td>\n",
       "      <td>153</td>\n",
       "      <td>3827</td>\n",
       "      <td>2338</td>\n",
       "      <td>233</td>\n",
       "      <td>1183</td>\n",
       "      <td>833</td>\n",
       "      <td>136</td>\n",
       "      <td>0.080396</td>\n",
       "      <td>10289</td>\n",
       "      <td>1.375</td>\n",
       "      <td>186</td>\n",
       "      <td>190</td>\n",
       "      <td>0.055556</td>\n",
       "    </tr>\n",
       "    <tr>\n",
       "      <th>2</th>\n",
       "      <td>Jordan 1 Retro High OG Visionaire</td>\n",
       "      <td>Jordan</td>\n",
       "      <td>170</td>\n",
       "      <td>2022-06-11</td>\n",
       "      <td>181</td>\n",
       "      <td>1368</td>\n",
       "      <td>420</td>\n",
       "      <td>200</td>\n",
       "      <td>580</td>\n",
       "      <td>343</td>\n",
       "      <td>137</td>\n",
       "      <td>0.049730</td>\n",
       "      <td>1378</td>\n",
       "      <td>0.253</td>\n",
       "      <td>206</td>\n",
       "      <td>213</td>\n",
       "      <td>0.105689</td>\n",
       "    </tr>\n",
       "    <tr>\n",
       "      <th>3</th>\n",
       "      <td>NikeCraft General Purpose Shoe Tom Sachs</td>\n",
       "      <td>Nike</td>\n",
       "      <td>110</td>\n",
       "      <td>2022-06-10</td>\n",
       "      <td>259</td>\n",
       "      <td>584</td>\n",
       "      <td>348</td>\n",
       "      <td>775</td>\n",
       "      <td>1136</td>\n",
       "      <td>2199</td>\n",
       "      <td>100</td>\n",
       "      <td>0.248204</td>\n",
       "      <td>836</td>\n",
       "      <td>5.355</td>\n",
       "      <td>552</td>\n",
       "      <td>699</td>\n",
       "      <td>0.035556</td>\n",
       "    </tr>\n",
       "    <tr>\n",
       "      <th>4</th>\n",
       "      <td>adidas Yeezy Boost 700 Hi-Res Red</td>\n",
       "      <td>adidas</td>\n",
       "      <td>300</td>\n",
       "      <td>2022-06-17</td>\n",
       "      <td>329</td>\n",
       "      <td>453</td>\n",
       "      <td>198</td>\n",
       "      <td>350</td>\n",
       "      <td>194</td>\n",
       "      <td>484</td>\n",
       "      <td>266</td>\n",
       "      <td>0.114064</td>\n",
       "      <td>218</td>\n",
       "      <td>-0.113</td>\n",
       "      <td>350</td>\n",
       "      <td>266</td>\n",
       "      <td>-0.139159</td>\n",
       "    </tr>\n",
       "  </tbody>\n",
       "</table>\n",
       "</div>"
      ],
      "text/plain": [
       "                                       item   brand  retail     release  \\\n",
       "0                   Jordan 4 Retro Infrared  Jordan     200  2022-06-15   \n",
       "1                adidas Yeezy Foam RNR Onyx  adidas      80  2022-06-08   \n",
       "2         Jordan 1 Retro High OG Visionaire  Jordan     170  2022-06-11   \n",
       "3  NikeCraft General Purpose Shoe Tom Sachs    Nike     110  2022-06-10   \n",
       "4         adidas Yeezy Boost 700 Hi-Res Red  adidas     300  2022-06-17   \n",
       "\n",
       "   lowestAsk  numberOfAsks  salesThisPeriod  highestBid  numberOfBids  \\\n",
       "0        238          1921             2554         300          1002   \n",
       "1        153          3827             2338         233          1183   \n",
       "2        181          1368              420         200           580   \n",
       "3        259           584              348         775          1136   \n",
       "4        329           453              198         350           194   \n",
       "\n",
       "   annualHigh  annualLow  volatility  deadstockSold  pricePremium  \\\n",
       "0        2043        216    0.027657           3306         0.285   \n",
       "1         833        136    0.080396          10289         1.375   \n",
       "2         343        137    0.049730           1378         0.253   \n",
       "3        2199        100    0.248204            836         5.355   \n",
       "4         484        266    0.114064            218        -0.113   \n",
       "\n",
       "   averageDeadstockPrice  lastSale  changePercentage  \n",
       "0                    287       257          0.011811  \n",
       "1                    186       190          0.055556  \n",
       "2                    206       213          0.105689  \n",
       "3                    552       699          0.035556  \n",
       "4                    350       266         -0.139159  "
      ]
     },
     "execution_count": 73,
     "metadata": {},
     "output_type": "execute_result"
    }
   ],
   "source": [
    "df = pd.read_csv('sneakers.csv').drop(columns=['Unnamed: 0'])\n",
    "print('# of rows:',df.shape[0],'\\n# of columns:',df.shape[1])\n",
    "df.head(5)\n"
   ]
  },
  {
   "cell_type": "markdown",
   "id": "0ac24a1f",
   "metadata": {},
   "source": [
    "Check for NaN's and drop sneakers with no release date, since this means the shoe hasn't been released to the public. Print the remaining rows and columns."
   ]
  },
  {
   "cell_type": "code",
   "execution_count": 74,
   "id": "e8888b08",
   "metadata": {},
   "outputs": [
    {
     "name": "stdout",
     "output_type": "stream",
     "text": [
      "# of rows: 928 \n",
      "# of columns: 17\n"
     ]
    }
   ],
   "source": [
    "df.isna().sum()\n",
    "df = df.dropna(axis=0)\n",
    "print('# of rows:',df.shape[0],'\\n# of columns:',df.shape[1])"
   ]
  },
  {
   "cell_type": "markdown",
   "id": "833a813c",
   "metadata": {},
   "source": [
    "Change brand to numeric data, shorten column names. Change release column to datetime to be used for the regression model later. Print first five rows of the dataframe with the new column names."
   ]
  },
  {
   "cell_type": "code",
   "execution_count": 75,
   "id": "ad1a2ac5",
   "metadata": {},
   "outputs": [
    {
     "name": "stderr",
     "output_type": "stream",
     "text": [
      "/var/folders/b2/15kf1gds1n31r7bb_mz7b3km0000gn/T/ipykernel_3755/2864629975.py:4: FutureWarning: The default value of regex will change from True to False in a future version.\n",
      "  df.columns = df.columns.str.replace('(?i)(numberOf|deadstock|percentage|price)', '').str.lower()\n"
     ]
    },
    {
     "data": {
      "text/html": [
       "<div>\n",
       "<style scoped>\n",
       "    .dataframe tbody tr th:only-of-type {\n",
       "        vertical-align: middle;\n",
       "    }\n",
       "\n",
       "    .dataframe tbody tr th {\n",
       "        vertical-align: top;\n",
       "    }\n",
       "\n",
       "    .dataframe thead th {\n",
       "        text-align: right;\n",
       "    }\n",
       "</style>\n",
       "<table border=\"1\" class=\"dataframe\">\n",
       "  <thead>\n",
       "    <tr style=\"text-align: right;\">\n",
       "      <th></th>\n",
       "      <th>item</th>\n",
       "      <th>brand</th>\n",
       "      <th>retail</th>\n",
       "      <th>release</th>\n",
       "      <th>lowestask</th>\n",
       "      <th>asks</th>\n",
       "      <th>salesthisperiod</th>\n",
       "      <th>highestbid</th>\n",
       "      <th>bids</th>\n",
       "      <th>annualhigh</th>\n",
       "      <th>annuallow</th>\n",
       "      <th>volatility</th>\n",
       "      <th>sold</th>\n",
       "      <th>premium</th>\n",
       "      <th>average</th>\n",
       "      <th>lastsale</th>\n",
       "      <th>change</th>\n",
       "    </tr>\n",
       "  </thead>\n",
       "  <tbody>\n",
       "    <tr>\n",
       "      <th>0</th>\n",
       "      <td>Jordan 4 Retro Infrared</td>\n",
       "      <td>0</td>\n",
       "      <td>200</td>\n",
       "      <td>2022-06-15</td>\n",
       "      <td>238</td>\n",
       "      <td>1921</td>\n",
       "      <td>2554</td>\n",
       "      <td>300</td>\n",
       "      <td>1002</td>\n",
       "      <td>2043</td>\n",
       "      <td>216</td>\n",
       "      <td>0.027657</td>\n",
       "      <td>3306</td>\n",
       "      <td>0.285</td>\n",
       "      <td>287</td>\n",
       "      <td>257</td>\n",
       "      <td>0.011811</td>\n",
       "    </tr>\n",
       "    <tr>\n",
       "      <th>1</th>\n",
       "      <td>adidas Yeezy Foam RNR Onyx</td>\n",
       "      <td>1</td>\n",
       "      <td>80</td>\n",
       "      <td>2022-06-08</td>\n",
       "      <td>153</td>\n",
       "      <td>3827</td>\n",
       "      <td>2338</td>\n",
       "      <td>233</td>\n",
       "      <td>1183</td>\n",
       "      <td>833</td>\n",
       "      <td>136</td>\n",
       "      <td>0.080396</td>\n",
       "      <td>10289</td>\n",
       "      <td>1.375</td>\n",
       "      <td>186</td>\n",
       "      <td>190</td>\n",
       "      <td>0.055556</td>\n",
       "    </tr>\n",
       "    <tr>\n",
       "      <th>2</th>\n",
       "      <td>Jordan 1 Retro High OG Visionaire</td>\n",
       "      <td>0</td>\n",
       "      <td>170</td>\n",
       "      <td>2022-06-11</td>\n",
       "      <td>181</td>\n",
       "      <td>1368</td>\n",
       "      <td>420</td>\n",
       "      <td>200</td>\n",
       "      <td>580</td>\n",
       "      <td>343</td>\n",
       "      <td>137</td>\n",
       "      <td>0.049730</td>\n",
       "      <td>1378</td>\n",
       "      <td>0.253</td>\n",
       "      <td>206</td>\n",
       "      <td>213</td>\n",
       "      <td>0.105689</td>\n",
       "    </tr>\n",
       "    <tr>\n",
       "      <th>3</th>\n",
       "      <td>NikeCraft General Purpose Shoe Tom Sachs</td>\n",
       "      <td>2</td>\n",
       "      <td>110</td>\n",
       "      <td>2022-06-10</td>\n",
       "      <td>259</td>\n",
       "      <td>584</td>\n",
       "      <td>348</td>\n",
       "      <td>775</td>\n",
       "      <td>1136</td>\n",
       "      <td>2199</td>\n",
       "      <td>100</td>\n",
       "      <td>0.248204</td>\n",
       "      <td>836</td>\n",
       "      <td>5.355</td>\n",
       "      <td>552</td>\n",
       "      <td>699</td>\n",
       "      <td>0.035556</td>\n",
       "    </tr>\n",
       "    <tr>\n",
       "      <th>4</th>\n",
       "      <td>adidas Yeezy Boost 700 Hi-Res Red</td>\n",
       "      <td>1</td>\n",
       "      <td>300</td>\n",
       "      <td>2022-06-17</td>\n",
       "      <td>329</td>\n",
       "      <td>453</td>\n",
       "      <td>198</td>\n",
       "      <td>350</td>\n",
       "      <td>194</td>\n",
       "      <td>484</td>\n",
       "      <td>266</td>\n",
       "      <td>0.114064</td>\n",
       "      <td>218</td>\n",
       "      <td>-0.113</td>\n",
       "      <td>350</td>\n",
       "      <td>266</td>\n",
       "      <td>-0.139159</td>\n",
       "    </tr>\n",
       "  </tbody>\n",
       "</table>\n",
       "</div>"
      ],
      "text/plain": [
       "                                       item  brand  retail    release  \\\n",
       "0                   Jordan 4 Retro Infrared      0     200 2022-06-15   \n",
       "1                adidas Yeezy Foam RNR Onyx      1      80 2022-06-08   \n",
       "2         Jordan 1 Retro High OG Visionaire      0     170 2022-06-11   \n",
       "3  NikeCraft General Purpose Shoe Tom Sachs      2     110 2022-06-10   \n",
       "4         adidas Yeezy Boost 700 Hi-Res Red      1     300 2022-06-17   \n",
       "\n",
       "   lowestask  asks  salesthisperiod  highestbid  bids  annualhigh  annuallow  \\\n",
       "0        238  1921             2554         300  1002        2043        216   \n",
       "1        153  3827             2338         233  1183         833        136   \n",
       "2        181  1368              420         200   580         343        137   \n",
       "3        259   584              348         775  1136        2199        100   \n",
       "4        329   453              198         350   194         484        266   \n",
       "\n",
       "   volatility   sold  premium  average  lastsale    change  \n",
       "0    0.027657   3306    0.285      287       257  0.011811  \n",
       "1    0.080396  10289    1.375      186       190  0.055556  \n",
       "2    0.049730   1378    0.253      206       213  0.105689  \n",
       "3    0.248204    836    5.355      552       699  0.035556  \n",
       "4    0.114064    218   -0.113      350       266 -0.139159  "
      ]
     },
     "execution_count": 75,
     "metadata": {},
     "output_type": "execute_result"
    }
   ],
   "source": [
    "labels = dict(zip(df.brand.unique(), range(df.brand.nunique())))\n",
    "df.brand = df.brand.apply(lambda x: labels[x])\n",
    "df.release = pd.to_datetime(df.release)\n",
    "df.columns = df.columns.str.replace('(?i)(numberOf|deadstock|percentage|price)', '').str.lower()\n",
    "df.head()\n"
   ]
  },
  {
   "cell_type": "markdown",
   "id": "e9523640",
   "metadata": {},
   "source": [
    "Print the top four most frequent brands in the dataframe, which will be used later for plotting. Other brands will be used as one category in the plot."
   ]
  },
  {
   "cell_type": "code",
   "execution_count": 76,
   "id": "13d5edf0",
   "metadata": {},
   "outputs": [
    {
     "name": "stdout",
     "output_type": "stream",
     "text": [
      "Nike           379\n",
      "Jordan         330\n",
      "adidas         122\n",
      "New Balance     57\n",
      "dtype: int64\n"
     ]
    }
   ],
   "source": [
    "from collections import Counter\n",
    "temp = df.groupby(['brand']).mean()\n",
    "rev_labels = {v:k for k,v in labels.items()}\n",
    "count = Counter(df.brand).most_common(4)\n",
    "print(pd.Series({rev_labels[k]:v for k,v in dict(count).items()}))\n"
   ]
  },
  {
   "cell_type": "markdown",
   "id": "1217b13f",
   "metadata": {},
   "source": [
    "Find the number of sneakers that have been resold for more than their initial retail price, and those that have been resold for less than their initial retail price."
   ]
  },
  {
   "cell_type": "code",
   "execution_count": 77,
   "id": "4aa7edc5",
   "metadata": {},
   "outputs": [
    {
     "name": "stdout",
     "output_type": "stream",
     "text": [
      "Number sold at a loss: 232\n",
      "Number sold for profit: 682\n"
     ]
    }
   ],
   "source": [
    "loss = df[df.retail > df.lastsale]\n",
    "profit = df[df.lastsale > df.retail]\n",
    "print('Number sold at a loss:', len(loss.values))\n",
    "print('Number sold for profit:',len(profit.values))"
   ]
  },
  {
   "cell_type": "markdown",
   "id": "b8fa1eef",
   "metadata": {},
   "source": [
    "Plot the profitable sneakers, comparing their price premium percentage with their initial retail value, grouped by the top four most common brands.\n",
    "\n",
    "From the scatterplot shown below, the brand with the highest price premiums is unsurprisingly, Jordan. This is to be expected, since the culture of buying and reselling sneakers is based on Jordan brand sneakers. Interestingly however, the three outliers from Jordan are all collaboration sneakers with other fashion brands and music artists. These shoes had a retail price between 150 and 200, but have resold for prices between 3,000 and 6,000 shown below the scatterplot. \n",
    "\n",
    "Another interesting observation can be seen with adidas. Many of their lower retail-priced sneakers end up with a higher price premium than brands like Nike and New Balance, in contrast to their high retail-priced sneakers underperforming in their price premiums. "
   ]
  },
  {
   "cell_type": "code",
   "execution_count": 78,
   "id": "75aae41f",
   "metadata": {},
   "outputs": [
    {
     "data": {
      "image/png": "[encoded data removed]",
      "text/plain": [
       "<Figure size 666x414 with 1 Axes>"
      ]
     },
     "metadata": {},
     "output_type": "display_data"
    },
    {
     "data": {
      "text/html": [
       "<div>\n",
       "<style scoped>\n",
       "    .dataframe tbody tr th:only-of-type {\n",
       "        vertical-align: middle;\n",
       "    }\n",
       "\n",
       "    .dataframe tbody tr th {\n",
       "        vertical-align: top;\n",
       "    }\n",
       "\n",
       "    .dataframe thead th {\n",
       "        text-align: right;\n",
       "    }\n",
       "</style>\n",
       "<table border=\"1\" class=\"dataframe\">\n",
       "  <thead>\n",
       "    <tr style=\"text-align: right;\">\n",
       "      <th></th>\n",
       "      <th>item</th>\n",
       "      <th>retail</th>\n",
       "      <th>annualhigh</th>\n",
       "      <th>lastsale</th>\n",
       "      <th>premium</th>\n",
       "    </tr>\n",
       "  </thead>\n",
       "  <tbody>\n",
       "    <tr>\n",
       "      <th>478</th>\n",
       "      <td>Jordan 1 Low Fragment x Travis Scott</td>\n",
       "      <td>150</td>\n",
       "      <td>3204</td>\n",
       "      <td>1760</td>\n",
       "      <td>10.731</td>\n",
       "    </tr>\n",
       "    <tr>\n",
       "      <th>623</th>\n",
       "      <td>Jordan 4 Retro Off-White Sail (W)</td>\n",
       "      <td>200</td>\n",
       "      <td>5999</td>\n",
       "      <td>2000</td>\n",
       "      <td>9.000</td>\n",
       "    </tr>\n",
       "    <tr>\n",
       "      <th>919</th>\n",
       "      <td>Jordan 1 Retro High Travis Scott</td>\n",
       "      <td>175</td>\n",
       "      <td>3554</td>\n",
       "      <td>1451</td>\n",
       "      <td>7.291</td>\n",
       "    </tr>\n",
       "  </tbody>\n",
       "</table>\n",
       "</div>"
      ],
      "text/plain": [
       "                                     item  retail  annualhigh  lastsale  \\\n",
       "478  Jordan 1 Low Fragment x Travis Scott     150        3204      1760   \n",
       "623     Jordan 4 Retro Off-White Sail (W)     200        5999      2000   \n",
       "919      Jordan 1 Retro High Travis Scott     175        3554      1451   \n",
       "\n",
       "     premium  \n",
       "478   10.731  \n",
       "623    9.000  \n",
       "919    7.291  "
      ]
     },
     "execution_count": 78,
     "metadata": {},
     "output_type": "execute_result"
    }
   ],
   "source": [
    "popular = [i for i in [j[0] for j in count]]\n",
    "fig, ax = plt.subplots(figsize=(9.25,5.75))\n",
    "fig.set_facecolor('white')\n",
    "clrs = ['mediumseagreen', 'dodgerblue', 'lightcoral', 'goldenrod', 'violet']\n",
    "ax.set_title('Resale Premium by Brand', fontsize=15.5, fontstyle='italic')\n",
    "for i,j in zip(popular, clrs):\n",
    "    tag = rev_labels[i]\n",
    "    ind = profit[profit.brand == i].index\n",
    "    ax.scatter(df.loc[ind].premium,df.loc[ind].retail,color=j,label=tag)\n",
    "    ax.set_ylabel('Retail Price', fontsize=12.5)\n",
    "    ax.set_xlabel('Price Premium %', fontsize=12.5)\n",
    "plt.legend(loc='lower right', fontsize=12.5)\n",
    "plt.show()\n",
    "df[df.premium > 6][['item','retail','annualhigh','lastsale','premium']]"
   ]
  },
  {
   "cell_type": "markdown",
   "id": "ba373e27",
   "metadata": {},
   "source": [
    "Plot the volatility of all sneakers, grouped by the top four most common brands. \n",
    "\n",
    "The plot below shows that adidas has the widest range of price volatility with the greatest number of outliers. This does makes sense when comparing their product line since the ownership of the Yeezy brand to other competitors.\n",
    "\n",
    "Adidas has been primarily known for their \"Ultraboost\" shoes, which uses comfort as their selling point with not much of a resale premium and not many models to choose from. In contrast, Yeezy sneakers base their selling point on their celebrity endorsements, with various models from low to very high retail prices. This could explain why the volatility of adidas sneakers tends to be much higher than other brands, since they constantly shift between their comforable and price-stable shoe in the ultraboost with experimental, price-inflated products with Yeezy."
   ]
  },
  {
   "cell_type": "code",
   "execution_count": 79,
   "id": "73afd503",
   "metadata": {},
   "outputs": [
    {
     "data": {
      "text/plain": [
       "[Text(0.5, 0, '')]"
      ]
     },
     "execution_count": 79,
     "metadata": {},
     "output_type": "execute_result"
    },
    {
     "data": {
      "image/png": "[encoded data removed]",
      "text/plain": [
       "<Figure size 662.4x432 with 1 Axes>"
      ]
     },
     "metadata": {},
     "output_type": "display_data"
    }
   ],
   "source": [
    "sns.set(rc={'figure.figsize':(9.2,6)})\n",
    "sns.set_theme(style=\"whitegrid\")\n",
    "b_idx = df[df.brand.isin(popular)].index\n",
    "axs = sns.boxplot(x='brand', y='volatility', data=df.loc[b_idx],palette='Set3')\n",
    "axs.set_xticklabels([rev_labels[i] for i in popular], fontsize=12.5)\n",
    "axs.set_title('Market Volatility by Brand', fontsize=15.5, fontstyle='italic')\n",
    "axs.set(xlabel=None)\n"
   ]
  },
  {
   "cell_type": "markdown",
   "id": "78723f3e",
   "metadata": {},
   "source": [
    "Create X and y datasets from relevant columns, and change release column to timedelta for training data to be used later. Print the rows and columns from the resulting datasets.\n",
    "\n",
    "Originally, I wanted to use a model to predict the number of sales in the given quarter/period. Through looking at the data provided by the site catalog, it seems that most of the sneakers do not have sales history for the past quarter, with all of their current sales consisting of the current quarter. This could mean that the majority of the sneakers that have been on the site's last 25 search pages are too new/released too recently to be able to predict how many will be sold in their first quarter."
   ]
  },
  {
   "cell_type": "code",
   "execution_count": 80,
   "id": "c4439644",
   "metadata": {},
   "outputs": [
    {
     "name": "stdout",
     "output_type": "stream",
     "text": [
      "(X) rows: 928\n",
      "columns: 15\n",
      "(y) rows: 928\n",
      "columns: 1\n"
     ]
    },
    {
     "name": "stderr",
     "output_type": "stream",
     "text": [
      "/var/folders/b2/15kf1gds1n31r7bb_mz7b3km0000gn/T/ipykernel_3755/1205117153.py:2: FutureWarning: casting datetime64[ns] values to int64 with .astype(...) is deprecated and will raise in a future version. Use .view(...) instead.\n",
      "  X.release = X.release.astype(np.int64)\n"
     ]
    }
   ],
   "source": [
    "X = df.drop(columns=['item','lastsale'])\n",
    "X.release = X.release.astype(np.int64)\n",
    "y = df.lastsale\n",
    "print('(X) rows: ' + str(X.shape[0]) + '\\ncolumns: ' + str(X.shape[1]))\n",
    "print('(y) rows: ' + str(len(y)) + '\\ncolumns: ' + str(y.ndim))"
   ]
  },
  {
   "cell_type": "markdown",
   "id": "37778c7e",
   "metadata": {},
   "source": [
    "Split X and y into training and testing datasets, followed by printing the rows and columns for each."
   ]
  },
  {
   "cell_type": "code",
   "execution_count": 81,
   "id": "6982f38b",
   "metadata": {},
   "outputs": [
    {
     "name": "stdout",
     "output_type": "stream",
     "text": [
      "X training: 696 rows, 15 columns\n",
      "X testing: 232 rows, 15 columns\n",
      "y training: 696 rows, 1 columns\n",
      "y testing: 232 rows, 1 columns\n"
     ]
    }
   ],
   "source": [
    "X_train, X_test, y_train, y_test = train_test_split(X, y, test_size=.25)\n",
    "print('X training: ' + str(X_train.shape[0]) + ' rows, ' + str(X_train.shape[1]) + ' columns')\n",
    "print('X testing: ' + str(X_test.shape[0]) + ' rows, ' + str(X_test.shape[1]) + ' columns')\n",
    "print('y training: ' + str(y_train.shape[0]) + ' rows, ' + str(y_train.ndim) + ' columns')\n",
    "print('y testing: ' + str(y_test.shape[0]) + ' rows, ' + str(y_test.ndim) + ' columns')\n"
   ]
  },
  {
   "cell_type": "markdown",
   "id": "ba7198f1",
   "metadata": {},
   "source": [
    "For the new feature of the project, I have chosen to compare both the Decision Tree and the Random Forest regression models for prediction of the last sale of a sneaker. I chose to implement the random forest model because the y label (last sale) is dependant on many of the X features, however the X features do not necessarily share a direct relationship with the last sale. For example, the last sale is heavily dependant on the lowest ask and the average deadstock (never worn) price, however the lowest ask and average deadstock price are usually determined by other market conditions, like the number of times the sneaker has been released or the proportion of worn to deadstock pairs available. \n",
    "\n",
    "To add a new component to the Decision Tree model, I chose to assign a random split at each node, instead of the default \"best\" argument given to the model's splitter. I chose to make this adjustment to hopefully get a closer result to the random forest strategy.\n",
    "\n",
    "After testing observing the accuracy of both models, it is evident that one decision tree is not sufficient to produce an effective output with it's large percentage of error, which makes the random forest model the better option for analyzing the last sale label even with the adjustment.\n",
    "\n",
    "An interesting observation can be seen in the feature importances for both models. In the random forest model, the lowest ask plays much more of a factor in predicting the item's last sale when compared to the highest bid. This is unexpected, since the two values are expected to be more equal in importance and on average, there are ususally more bidders than askers. While the decision tree gives similar results, it appears that it's importance values vary more heavily when trained, however the lowest ask continues to be the most dominant feature."
   ]
  },
  {
   "cell_type": "code",
   "execution_count": 82,
   "id": "c9e95791",
   "metadata": {},
   "outputs": [
    {
     "name": "stdout",
     "output_type": "stream",
     "text": [
      "                 importance\n",
      "highestbid           0.5409\n",
      "lowestask            0.2212\n",
      "average              0.1711\n",
      "premium              0.0201\n",
      "change               0.0132\n",
      "sold                 0.0066\n",
      "bids                 0.0046\n",
      "salesthisperiod      0.0046\n",
      "retail               0.0040\n",
      "volatility           0.0038\n",
      "annualhigh           0.0033\n",
      "asks                 0.0022\n",
      "annuallow            0.0018\n",
      "release              0.0014\n",
      "brand                0.0011\n"
     ]
    }
   ],
   "source": [
    "from sklearn.tree import DecisionTreeRegressor\n",
    "regr = DecisionTreeRegressor(splitter='random')\n",
    "regr.fit(X_train, y_train)\n",
    "features = pd.DataFrame(regr.feature_importances_, X.columns, columns=['importance'])\n",
    "print(np.round(features.sort_values(by=['importance'],ascending=False),4))"
   ]
  },
  {
   "cell_type": "markdown",
   "id": "5dbc2fce",
   "metadata": {},
   "source": [
    "Test and print the accuracy scores of the decision tree regression model, before printing a random sample of 10 predictions. \n",
    "Through observation of the RMSE and percent error, it is evident that one decision tree regressor is not the best model to be used in predicting a sneaker's last sale."
   ]
  },
  {
   "cell_type": "code",
   "execution_count": 83,
   "id": "92263c65",
   "metadata": {},
   "outputs": [
    {
     "name": "stdout",
     "output_type": "stream",
     "text": [
      "RMSE: 46.94 | 24.22% percent error\n",
      "R^2 Value: 0.97\n"
     ]
    },
    {
     "data": {
      "text/html": [
       "<div>\n",
       "<style scoped>\n",
       "    .dataframe tbody tr th:only-of-type {\n",
       "        vertical-align: middle;\n",
       "    }\n",
       "\n",
       "    .dataframe tbody tr th {\n",
       "        vertical-align: top;\n",
       "    }\n",
       "\n",
       "    .dataframe thead th {\n",
       "        text-align: right;\n",
       "    }\n",
       "</style>\n",
       "<table border=\"1\" class=\"dataframe\">\n",
       "  <thead>\n",
       "    <tr style=\"text-align: right;\">\n",
       "      <th></th>\n",
       "      <th>Actual</th>\n",
       "      <th>Predicted</th>\n",
       "    </tr>\n",
       "  </thead>\n",
       "  <tbody>\n",
       "    <tr>\n",
       "      <th>400</th>\n",
       "      <td>281</td>\n",
       "      <td>295.0</td>\n",
       "    </tr>\n",
       "    <tr>\n",
       "      <th>828</th>\n",
       "      <td>79</td>\n",
       "      <td>140.0</td>\n",
       "    </tr>\n",
       "    <tr>\n",
       "      <th>147</th>\n",
       "      <td>135</td>\n",
       "      <td>157.0</td>\n",
       "    </tr>\n",
       "    <tr>\n",
       "      <th>436</th>\n",
       "      <td>385</td>\n",
       "      <td>461.0</td>\n",
       "    </tr>\n",
       "    <tr>\n",
       "      <th>347</th>\n",
       "      <td>204</td>\n",
       "      <td>228.0</td>\n",
       "    </tr>\n",
       "    <tr>\n",
       "      <th>35</th>\n",
       "      <td>88</td>\n",
       "      <td>151.0</td>\n",
       "    </tr>\n",
       "    <tr>\n",
       "      <th>383</th>\n",
       "      <td>185</td>\n",
       "      <td>173.0</td>\n",
       "    </tr>\n",
       "    <tr>\n",
       "      <th>96</th>\n",
       "      <td>187</td>\n",
       "      <td>226.0</td>\n",
       "    </tr>\n",
       "    <tr>\n",
       "      <th>593</th>\n",
       "      <td>255</td>\n",
       "      <td>270.0</td>\n",
       "    </tr>\n",
       "    <tr>\n",
       "      <th>438</th>\n",
       "      <td>166</td>\n",
       "      <td>167.0</td>\n",
       "    </tr>\n",
       "  </tbody>\n",
       "</table>\n",
       "</div>"
      ],
      "text/plain": [
       "     Actual  Predicted\n",
       "400     281      295.0\n",
       "828      79      140.0\n",
       "147     135      157.0\n",
       "436     385      461.0\n",
       "347     204      228.0\n",
       "35       88      151.0\n",
       "383     185      173.0\n",
       "96      187      226.0\n",
       "593     255      270.0\n",
       "438     166      167.0"
      ]
     },
     "execution_count": 83,
     "metadata": {},
     "output_type": "execute_result"
    }
   ],
   "source": [
    "y_pred = regr.predict(X_test)\n",
    "res = pd.DataFrame({'Actual':y_test,'Predicted':y_pred})\n",
    "RMSE = np.sqrt(metrics.mean_squared_error(y_test, y_pred))\n",
    "print('RMSE:', np.round(RMSE,2),'|', f'{RMSE/np.mean(y):.2%}', 'percent error')\n",
    "print('R^2 Value:', np.round(regr.score(X,y),3))\n",
    "res.sample(10)"
   ]
  },
  {
   "cell_type": "markdown",
   "id": "878aad4e",
   "metadata": {},
   "source": [
    "Train the random forest regression model with 100 estimators/ trees in the model, and print the feature importances in descending order. Notice that the lowest ask remains as the most important feature, however it's importance is valued much less when compared to the decision tree model."
   ]
  },
  {
   "cell_type": "code",
   "execution_count": 84,
   "id": "e86aa5d0",
   "metadata": {},
   "outputs": [
    {
     "name": "stdout",
     "output_type": "stream",
     "text": [
      "                 importance\n",
      "lowestask            0.4351\n",
      "average              0.2347\n",
      "highestbid           0.1459\n",
      "premium              0.0935\n",
      "annuallow            0.0319\n",
      "change               0.0170\n",
      "annualhigh           0.0082\n",
      "retail               0.0081\n",
      "bids                 0.0070\n",
      "volatility           0.0048\n",
      "salesthisperiod      0.0041\n",
      "asks                 0.0037\n",
      "sold                 0.0034\n",
      "release              0.0021\n",
      "brand                0.0005\n"
     ]
    }
   ],
   "source": [
    "from sklearn.ensemble import RandomForestRegressor\n",
    "regr = RandomForestRegressor(100)\n",
    "regr = regr.fit(X_train, y_train)\n",
    "features = pd.DataFrame(regr.feature_importances_, X.columns, columns=['importance'])\n",
    "print(np.round(features.sort_values(by=['importance'],ascending=False),4))"
   ]
  },
  {
   "cell_type": "markdown",
   "id": "c9842a0b",
   "metadata": {},
   "source": [
    "Print accuracy scores of the random forest model's predictions, with a random sample of 10 predictions. \n",
    "\n",
    "Initially, when viewing the model's predictions I was dissapointed in it's accuracy. However after looking at the decision tree regressor's results, it seems that the random forest achieves more accurate predictions on average."
   ]
  },
  {
   "cell_type": "code",
   "execution_count": 85,
   "id": "48e7318b",
   "metadata": {},
   "outputs": [
    {
     "name": "stdout",
     "output_type": "stream",
     "text": [
      "RMSE: 29.79 | 15.37% percent error\n",
      "R^2 Value: 0.975\n"
     ]
    },
    {
     "data": {
      "text/html": [
       "<div>\n",
       "<style scoped>\n",
       "    .dataframe tbody tr th:only-of-type {\n",
       "        vertical-align: middle;\n",
       "    }\n",
       "\n",
       "    .dataframe tbody tr th {\n",
       "        vertical-align: top;\n",
       "    }\n",
       "\n",
       "    .dataframe thead th {\n",
       "        text-align: right;\n",
       "    }\n",
       "</style>\n",
       "<table border=\"1\" class=\"dataframe\">\n",
       "  <thead>\n",
       "    <tr style=\"text-align: right;\">\n",
       "      <th></th>\n",
       "      <th>Actual</th>\n",
       "      <th>Predicted</th>\n",
       "    </tr>\n",
       "  </thead>\n",
       "  <tbody>\n",
       "    <tr>\n",
       "      <th>696</th>\n",
       "      <td>160</td>\n",
       "      <td>165.48</td>\n",
       "    </tr>\n",
       "    <tr>\n",
       "      <th>107</th>\n",
       "      <td>208</td>\n",
       "      <td>234.52</td>\n",
       "    </tr>\n",
       "    <tr>\n",
       "      <th>445</th>\n",
       "      <td>337</td>\n",
       "      <td>298.17</td>\n",
       "    </tr>\n",
       "    <tr>\n",
       "      <th>947</th>\n",
       "      <td>156</td>\n",
       "      <td>154.33</td>\n",
       "    </tr>\n",
       "    <tr>\n",
       "      <th>91</th>\n",
       "      <td>269</td>\n",
       "      <td>252.76</td>\n",
       "    </tr>\n",
       "    <tr>\n",
       "      <th>703</th>\n",
       "      <td>226</td>\n",
       "      <td>238.28</td>\n",
       "    </tr>\n",
       "    <tr>\n",
       "      <th>515</th>\n",
       "      <td>147</td>\n",
       "      <td>156.76</td>\n",
       "    </tr>\n",
       "    <tr>\n",
       "      <th>684</th>\n",
       "      <td>319</td>\n",
       "      <td>244.98</td>\n",
       "    </tr>\n",
       "    <tr>\n",
       "      <th>436</th>\n",
       "      <td>385</td>\n",
       "      <td>400.01</td>\n",
       "    </tr>\n",
       "    <tr>\n",
       "      <th>969</th>\n",
       "      <td>166</td>\n",
       "      <td>170.31</td>\n",
       "    </tr>\n",
       "  </tbody>\n",
       "</table>\n",
       "</div>"
      ],
      "text/plain": [
       "     Actual  Predicted\n",
       "696     160     165.48\n",
       "107     208     234.52\n",
       "445     337     298.17\n",
       "947     156     154.33\n",
       "91      269     252.76\n",
       "703     226     238.28\n",
       "515     147     156.76\n",
       "684     319     244.98\n",
       "436     385     400.01\n",
       "969     166     170.31"
      ]
     },
     "execution_count": 85,
     "metadata": {},
     "output_type": "execute_result"
    }
   ],
   "source": [
    "y_pred = regr.predict(X_test)\n",
    "res = pd.DataFrame({'Actual':y_test,'Predicted':y_pred})\n",
    "RMSE = np.sqrt(metrics.mean_squared_error(y_test, y_pred))\n",
    "print('RMSE:', np.round(RMSE,2),'|', f'{RMSE/np.mean(y):.2%}', 'percent error')\n",
    "print('R^2 Value:', np.round(regr.score(X,y),3))\n",
    "res.sample(10)\n"
   ]
  },
  {
   "cell_type": "markdown",
   "id": "503675cb",
   "metadata": {},
   "source": [
    "Conclusion\n",
    "\n",
    "Through the analysis shown of the two plots shown above, it seems that Jordan brand continues to hold their lead in the resale market. While this is not much of a surprise, it should be noted that the majority of their products with high price premiums are collaborations with other designers/companies. \n",
    "\n",
    "Although further behind, adidas has an interesting dynamic with their low-retailing sneakers having high premiums, in contrast to their high retailing sneakers bring more price-stable.\n",
    "\n",
    "While the random forest regression model had not performed as well as I would hoped given it's high percentage of error, I was unsurprised in how difficult the task would be. A piece of data that could have skewed the data would most likely be the fact that the sales history only comes from the most recent items sold on StockX, leaving some sneakers with much more sales and time to gain value than others.\n",
    "\n",
    "To further this project, I would like to create a visualization similar to the first scatterplot, but with specific models of a given brand. For example, I would like to plot the price premium for Nike \"Dunks\" vs other models, like the Nike \"Air Force 1\" and their variations. Through this method, a clearer picture of where brands are succeeding vs where they are not could be made; however, the limited data provided by StockX could cause balancing issues between models. Additionally, I would like to do the same analysis with unprofitable sneakers, however the data would be unbalanced with the rows included here.\n",
    "\n",
    "As for the regression model, I would like to add additional columns to the X features such as sizing, location of buyers and sellers, and color codes of each sneaker. While this may not have improved the model's accuracy, it would be interesting to see the importance of attributes like color, collaborations, and size on a sneaker's resale value.\n"
   ]
  }
 ],
 "metadata": {
  "kernelspec": {
   "display_name": "Python 3 (ipykernel)",
   "language": "python",
   "name": "python3"
  },
  "language_info": {
   "codemirror_mode": {
    "name": "ipython",
    "version": 3
   },
   "file_extension": ".py",
   "mimetype": "text/x-python",
   "name": "python",
   "nbconvert_exporter": "python",
   "pygments_lexer": "ipython3",
   "version": "3.9.7"
  }
 },
 "nbformat": 4,
 "nbformat_minor": 5
}
