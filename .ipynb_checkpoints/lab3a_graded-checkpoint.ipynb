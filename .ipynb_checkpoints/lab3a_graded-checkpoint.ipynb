{
 "cells": [
  {
   "cell_type": "markdown",
   "id": "e607ddef",
   "metadata": {},
   "source": [
    "### CIS 9 - Lab 3a\n",
    "\n",
    "Supervised Learning: Regression and Classification"
   ]
  },
  {
   "cell_type": "code",
   "execution_count": 2256,
   "id": "7cd8b162",
   "metadata": {},
   "outputs": [],
   "source": [
    "# Name: Aaron Jiang"
   ]
  },
  {
   "cell_type": "markdown",
   "id": "de822385",
   "metadata": {},
   "source": [
    "In this lab you will select a machine learning model to determine a wine characteristic based on its physical and chemical properties."
   ]
  },
  {
   "cell_type": "code",
   "execution_count": 2257,
   "id": "c0b96718",
   "metadata": {},
   "outputs": [],
   "source": [
    "# import modules\n",
    "import numpy as np\n",
    "from scipy import stats\n",
    "import pandas as pd\n",
    "import matplotlib.pyplot as plt\n",
    "import matplotlib.colors as clr\n",
    "import re\n",
    "import sklearn.linear_model as lm\n",
    "from sklearn.model_selection import train_test_split\n",
    "from sklearn import metrics\n",
    "%matplotlib inline\n",
    "plt.style.use('fivethirtyeight')\n",
    "\n"
   ]
  },
  {
   "cell_type": "markdown",
   "id": "1cbf3b30",
   "metadata": {},
   "source": [
    "__Part A__ <br>\n",
    "Train a model to predict whether a wine is white wine or red wine, given the attributes of the wine.<br>\n",
    "The data is in the file `wine.csv` ([source](https://www.kaggle.com/datasets/ruthgn/wine-quality-data-set-red-white-wine))"
   ]
  },
  {
   "cell_type": "markdown",
   "id": "0bf9d7b5",
   "metadata": {},
   "source": [
    "1. __Read in data__ from the `wine.csv` file<br>\n",
    "Then __print the number of rows and columns of the DataFrame__, and __print the first 5 rows__"
   ]
  },
  {
   "cell_type": "code",
   "execution_count": 2258,
   "id": "bfc6e610",
   "metadata": {},
   "outputs": [
    {
     "name": "stdout",
     "output_type": "stream",
     "text": [
      "rows: 6497\n",
      "columns: 13\n"
     ]
    },
    {
     "data": {
      "text/html": [
       "<div>\n",
       "<style scoped>\n",
       "    .dataframe tbody tr th:only-of-type {\n",
       "        vertical-align: middle;\n",
       "    }\n",
       "\n",
       "    .dataframe tbody tr th {\n",
       "        vertical-align: top;\n",
       "    }\n",
       "\n",
       "    .dataframe thead th {\n",
       "        text-align: right;\n",
       "    }\n",
       "</style>\n",
       "<table border=\"1\" class=\"dataframe\">\n",
       "  <thead>\n",
       "    <tr style=\"text-align: right;\">\n",
       "      <th></th>\n",
       "      <th>type</th>\n",
       "      <th>fixed acidity</th>\n",
       "      <th>volatile acidity</th>\n",
       "      <th>citric acid</th>\n",
       "      <th>residual sugar</th>\n",
       "      <th>chlorides</th>\n",
       "      <th>free sulfur dioxide</th>\n",
       "      <th>total sulfur dioxide</th>\n",
       "      <th>density</th>\n",
       "      <th>pH</th>\n",
       "      <th>sulphates</th>\n",
       "      <th>alcohol</th>\n",
       "      <th>quality</th>\n",
       "    </tr>\n",
       "  </thead>\n",
       "  <tbody>\n",
       "    <tr>\n",
       "      <th>0</th>\n",
       "      <td>white</td>\n",
       "      <td>7.0</td>\n",
       "      <td>0.27</td>\n",
       "      <td>0.36</td>\n",
       "      <td>20.7</td>\n",
       "      <td>0.045</td>\n",
       "      <td>45.0</td>\n",
       "      <td>170.0</td>\n",
       "      <td>1.0010</td>\n",
       "      <td>3.00</td>\n",
       "      <td>0.45</td>\n",
       "      <td>8.8</td>\n",
       "      <td>6</td>\n",
       "    </tr>\n",
       "    <tr>\n",
       "      <th>1</th>\n",
       "      <td>white</td>\n",
       "      <td>6.3</td>\n",
       "      <td>0.30</td>\n",
       "      <td>0.34</td>\n",
       "      <td>1.6</td>\n",
       "      <td>0.049</td>\n",
       "      <td>14.0</td>\n",
       "      <td>132.0</td>\n",
       "      <td>0.9940</td>\n",
       "      <td>3.30</td>\n",
       "      <td>0.49</td>\n",
       "      <td>9.5</td>\n",
       "      <td>6</td>\n",
       "    </tr>\n",
       "    <tr>\n",
       "      <th>2</th>\n",
       "      <td>white</td>\n",
       "      <td>8.1</td>\n",
       "      <td>0.28</td>\n",
       "      <td>0.40</td>\n",
       "      <td>6.9</td>\n",
       "      <td>0.050</td>\n",
       "      <td>30.0</td>\n",
       "      <td>97.0</td>\n",
       "      <td>0.9951</td>\n",
       "      <td>3.26</td>\n",
       "      <td>0.44</td>\n",
       "      <td>10.1</td>\n",
       "      <td>6</td>\n",
       "    </tr>\n",
       "    <tr>\n",
       "      <th>3</th>\n",
       "      <td>white</td>\n",
       "      <td>7.2</td>\n",
       "      <td>0.23</td>\n",
       "      <td>0.32</td>\n",
       "      <td>8.5</td>\n",
       "      <td>0.058</td>\n",
       "      <td>47.0</td>\n",
       "      <td>186.0</td>\n",
       "      <td>0.9956</td>\n",
       "      <td>3.19</td>\n",
       "      <td>0.40</td>\n",
       "      <td>9.9</td>\n",
       "      <td>6</td>\n",
       "    </tr>\n",
       "    <tr>\n",
       "      <th>4</th>\n",
       "      <td>white</td>\n",
       "      <td>7.2</td>\n",
       "      <td>0.23</td>\n",
       "      <td>0.32</td>\n",
       "      <td>8.5</td>\n",
       "      <td>0.058</td>\n",
       "      <td>47.0</td>\n",
       "      <td>186.0</td>\n",
       "      <td>0.9956</td>\n",
       "      <td>3.19</td>\n",
       "      <td>0.40</td>\n",
       "      <td>9.9</td>\n",
       "      <td>6</td>\n",
       "    </tr>\n",
       "  </tbody>\n",
       "</table>\n",
       "</div>"
      ],
      "text/plain": [
       "    type  fixed acidity  volatile acidity  citric acid  residual sugar  \\\n",
       "0  white            7.0              0.27         0.36            20.7   \n",
       "1  white            6.3              0.30         0.34             1.6   \n",
       "2  white            8.1              0.28         0.40             6.9   \n",
       "3  white            7.2              0.23         0.32             8.5   \n",
       "4  white            7.2              0.23         0.32             8.5   \n",
       "\n",
       "   chlorides  free sulfur dioxide  total sulfur dioxide  density    pH  \\\n",
       "0      0.045                 45.0                 170.0   1.0010  3.00   \n",
       "1      0.049                 14.0                 132.0   0.9940  3.30   \n",
       "2      0.050                 30.0                  97.0   0.9951  3.26   \n",
       "3      0.058                 47.0                 186.0   0.9956  3.19   \n",
       "4      0.058                 47.0                 186.0   0.9956  3.19   \n",
       "\n",
       "   sulphates  alcohol  quality  \n",
       "0       0.45      8.8        6  \n",
       "1       0.49      9.5        6  \n",
       "2       0.44     10.1        6  \n",
       "3       0.40      9.9        6  \n",
       "4       0.40      9.9        6  "
      ]
     },
     "execution_count": 2258,
     "metadata": {},
     "output_type": "execute_result"
    }
   ],
   "source": [
    "df = pd.read_csv('wine.csv')\n",
    "print('rows: ' + str(df.shape[0]) + '\\ncolumns: ' + str(df.shape[1]))\n",
    "df.head()"
   ]
  },
  {
   "cell_type": "markdown",
   "id": "98df2d16",
   "metadata": {},
   "source": [
    "2. First we inspect the data.<br>\n",
    "Write code to __show whether the y labels (white wine or red wine) are balanced__.<br>\n",
    "Then __create a Raw NBConvert cell to print \"balanced\" or \"not balanced\"__ as your conclusion based on your code output.<br>\n",
    "Recall that balanced data means that there is approximately the same number of each type of data."
   ]
  },
  {
   "cell_type": "code",
   "execution_count": 2259,
   "id": "16c905d3",
   "metadata": {},
   "outputs": [
    {
     "data": {
      "image/png": "[encoded data removed]",
      "text/plain": [
       "<Figure size 432x288 with 1 Axes>"
      ]
     },
     "metadata": {},
     "output_type": "display_data"
    }
   ],
   "source": [
    "df.type.value_counts()\n",
    "n, bins, patches = plt.hist(df.type)\n",
    "plt.title('Red & White',fontsize=14)\n",
    "\n",
    "colors = ['beige', 'tomato']\n",
    "for i, (idx, val, patch) in enumerate(zip(n, bins, patches)):\n",
    "    patch.set_facecolor(colors[i % len(colors)])\n",
    "    patch.set_edgecolor('black')"
   ]
  },
  {
   "cell_type": "code",
   "execution_count": null,
   "id": "302d17ce",
   "metadata": {},
   "outputs": [],
   "source": [
    "### nice use of plot to visualize the difference"
   ]
  },
  {
   "cell_type": "raw",
   "id": "a0847b40",
   "metadata": {},
   "source": [
    "not balanced"
   ]
  },
  {
   "cell_type": "markdown",
   "id": "b668b895",
   "metadata": {},
   "source": [
    "3. Fortunately most of the attributes are numeric data, but the wine type is a string.<br>\n",
    "__Change the wine _type_ into a number__.<br>\n",
    "Then __print the DataFrame__ to show the change (use Jupyter Notebook print)."
   ]
  },
  {
   "cell_type": "code",
   "execution_count": 2260,
   "id": "29f2a9dd",
   "metadata": {},
   "outputs": [
    {
     "data": {
      "text/html": [
       "<div>\n",
       "<style scoped>\n",
       "    .dataframe tbody tr th:only-of-type {\n",
       "        vertical-align: middle;\n",
       "    }\n",
       "\n",
       "    .dataframe tbody tr th {\n",
       "        vertical-align: top;\n",
       "    }\n",
       "\n",
       "    .dataframe thead th {\n",
       "        text-align: right;\n",
       "    }\n",
       "</style>\n",
       "<table border=\"1\" class=\"dataframe\">\n",
       "  <thead>\n",
       "    <tr style=\"text-align: right;\">\n",
       "      <th></th>\n",
       "      <th>type</th>\n",
       "      <th>fixed acidity</th>\n",
       "      <th>volatile acidity</th>\n",
       "      <th>citric acid</th>\n",
       "      <th>residual sugar</th>\n",
       "      <th>chlorides</th>\n",
       "      <th>free sulfur dioxide</th>\n",
       "      <th>total sulfur dioxide</th>\n",
       "      <th>density</th>\n",
       "      <th>pH</th>\n",
       "      <th>sulphates</th>\n",
       "      <th>alcohol</th>\n",
       "      <th>quality</th>\n",
       "    </tr>\n",
       "  </thead>\n",
       "  <tbody>\n",
       "    <tr>\n",
       "      <th>0</th>\n",
       "      <td>0</td>\n",
       "      <td>7.0</td>\n",
       "      <td>0.270</td>\n",
       "      <td>0.36</td>\n",
       "      <td>20.7</td>\n",
       "      <td>0.045</td>\n",
       "      <td>45.0</td>\n",
       "      <td>170.0</td>\n",
       "      <td>1.00100</td>\n",
       "      <td>3.00</td>\n",
       "      <td>0.45</td>\n",
       "      <td>8.8</td>\n",
       "      <td>6</td>\n",
       "    </tr>\n",
       "    <tr>\n",
       "      <th>1</th>\n",
       "      <td>0</td>\n",
       "      <td>6.3</td>\n",
       "      <td>0.300</td>\n",
       "      <td>0.34</td>\n",
       "      <td>1.6</td>\n",
       "      <td>0.049</td>\n",
       "      <td>14.0</td>\n",
       "      <td>132.0</td>\n",
       "      <td>0.99400</td>\n",
       "      <td>3.30</td>\n",
       "      <td>0.49</td>\n",
       "      <td>9.5</td>\n",
       "      <td>6</td>\n",
       "    </tr>\n",
       "    <tr>\n",
       "      <th>2</th>\n",
       "      <td>0</td>\n",
       "      <td>8.1</td>\n",
       "      <td>0.280</td>\n",
       "      <td>0.40</td>\n",
       "      <td>6.9</td>\n",
       "      <td>0.050</td>\n",
       "      <td>30.0</td>\n",
       "      <td>97.0</td>\n",
       "      <td>0.99510</td>\n",
       "      <td>3.26</td>\n",
       "      <td>0.44</td>\n",
       "      <td>10.1</td>\n",
       "      <td>6</td>\n",
       "    </tr>\n",
       "    <tr>\n",
       "      <th>3</th>\n",
       "      <td>0</td>\n",
       "      <td>7.2</td>\n",
       "      <td>0.230</td>\n",
       "      <td>0.32</td>\n",
       "      <td>8.5</td>\n",
       "      <td>0.058</td>\n",
       "      <td>47.0</td>\n",
       "      <td>186.0</td>\n",
       "      <td>0.99560</td>\n",
       "      <td>3.19</td>\n",
       "      <td>0.40</td>\n",
       "      <td>9.9</td>\n",
       "      <td>6</td>\n",
       "    </tr>\n",
       "    <tr>\n",
       "      <th>4</th>\n",
       "      <td>0</td>\n",
       "      <td>7.2</td>\n",
       "      <td>0.230</td>\n",
       "      <td>0.32</td>\n",
       "      <td>8.5</td>\n",
       "      <td>0.058</td>\n",
       "      <td>47.0</td>\n",
       "      <td>186.0</td>\n",
       "      <td>0.99560</td>\n",
       "      <td>3.19</td>\n",
       "      <td>0.40</td>\n",
       "      <td>9.9</td>\n",
       "      <td>6</td>\n",
       "    </tr>\n",
       "    <tr>\n",
       "      <th>...</th>\n",
       "      <td>...</td>\n",
       "      <td>...</td>\n",
       "      <td>...</td>\n",
       "      <td>...</td>\n",
       "      <td>...</td>\n",
       "      <td>...</td>\n",
       "      <td>...</td>\n",
       "      <td>...</td>\n",
       "      <td>...</td>\n",
       "      <td>...</td>\n",
       "      <td>...</td>\n",
       "      <td>...</td>\n",
       "      <td>...</td>\n",
       "    </tr>\n",
       "    <tr>\n",
       "      <th>6492</th>\n",
       "      <td>1</td>\n",
       "      <td>6.2</td>\n",
       "      <td>0.600</td>\n",
       "      <td>0.08</td>\n",
       "      <td>2.0</td>\n",
       "      <td>0.090</td>\n",
       "      <td>32.0</td>\n",
       "      <td>44.0</td>\n",
       "      <td>0.99490</td>\n",
       "      <td>3.45</td>\n",
       "      <td>0.58</td>\n",
       "      <td>10.5</td>\n",
       "      <td>5</td>\n",
       "    </tr>\n",
       "    <tr>\n",
       "      <th>6493</th>\n",
       "      <td>1</td>\n",
       "      <td>5.9</td>\n",
       "      <td>0.550</td>\n",
       "      <td>0.10</td>\n",
       "      <td>2.2</td>\n",
       "      <td>0.062</td>\n",
       "      <td>39.0</td>\n",
       "      <td>51.0</td>\n",
       "      <td>0.99512</td>\n",
       "      <td>3.52</td>\n",
       "      <td>0.76</td>\n",
       "      <td>11.2</td>\n",
       "      <td>6</td>\n",
       "    </tr>\n",
       "    <tr>\n",
       "      <th>6494</th>\n",
       "      <td>1</td>\n",
       "      <td>6.3</td>\n",
       "      <td>0.510</td>\n",
       "      <td>0.13</td>\n",
       "      <td>2.3</td>\n",
       "      <td>0.076</td>\n",
       "      <td>29.0</td>\n",
       "      <td>40.0</td>\n",
       "      <td>0.99574</td>\n",
       "      <td>3.42</td>\n",
       "      <td>0.75</td>\n",
       "      <td>11.0</td>\n",
       "      <td>6</td>\n",
       "    </tr>\n",
       "    <tr>\n",
       "      <th>6495</th>\n",
       "      <td>1</td>\n",
       "      <td>5.9</td>\n",
       "      <td>0.645</td>\n",
       "      <td>0.12</td>\n",
       "      <td>2.0</td>\n",
       "      <td>0.075</td>\n",
       "      <td>32.0</td>\n",
       "      <td>44.0</td>\n",
       "      <td>0.99547</td>\n",
       "      <td>3.57</td>\n",
       "      <td>0.71</td>\n",
       "      <td>10.2</td>\n",
       "      <td>5</td>\n",
       "    </tr>\n",
       "    <tr>\n",
       "      <th>6496</th>\n",
       "      <td>1</td>\n",
       "      <td>6.0</td>\n",
       "      <td>0.310</td>\n",
       "      <td>0.47</td>\n",
       "      <td>3.6</td>\n",
       "      <td>0.067</td>\n",
       "      <td>18.0</td>\n",
       "      <td>42.0</td>\n",
       "      <td>0.99549</td>\n",
       "      <td>3.39</td>\n",
       "      <td>0.66</td>\n",
       "      <td>11.0</td>\n",
       "      <td>6</td>\n",
       "    </tr>\n",
       "  </tbody>\n",
       "</table>\n",
       "<p>6497 rows × 13 columns</p>\n",
       "</div>"
      ],
      "text/plain": [
       "      type  fixed acidity  volatile acidity  citric acid  residual sugar  \\\n",
       "0        0            7.0             0.270         0.36            20.7   \n",
       "1        0            6.3             0.300         0.34             1.6   \n",
       "2        0            8.1             0.280         0.40             6.9   \n",
       "3        0            7.2             0.230         0.32             8.5   \n",
       "4        0            7.2             0.230         0.32             8.5   \n",
       "...    ...            ...               ...          ...             ...   \n",
       "6492     1            6.2             0.600         0.08             2.0   \n",
       "6493     1            5.9             0.550         0.10             2.2   \n",
       "6494     1            6.3             0.510         0.13             2.3   \n",
       "6495     1            5.9             0.645         0.12             2.0   \n",
       "6496     1            6.0             0.310         0.47             3.6   \n",
       "\n",
       "      chlorides  free sulfur dioxide  total sulfur dioxide  density    pH  \\\n",
       "0         0.045                 45.0                 170.0  1.00100  3.00   \n",
       "1         0.049                 14.0                 132.0  0.99400  3.30   \n",
       "2         0.050                 30.0                  97.0  0.99510  3.26   \n",
       "3         0.058                 47.0                 186.0  0.99560  3.19   \n",
       "4         0.058                 47.0                 186.0  0.99560  3.19   \n",
       "...         ...                  ...                   ...      ...   ...   \n",
       "6492      0.090                 32.0                  44.0  0.99490  3.45   \n",
       "6493      0.062                 39.0                  51.0  0.99512  3.52   \n",
       "6494      0.076                 29.0                  40.0  0.99574  3.42   \n",
       "6495      0.075                 32.0                  44.0  0.99547  3.57   \n",
       "6496      0.067                 18.0                  42.0  0.99549  3.39   \n",
       "\n",
       "      sulphates  alcohol  quality  \n",
       "0          0.45      8.8        6  \n",
       "1          0.49      9.5        6  \n",
       "2          0.44     10.1        6  \n",
       "3          0.40      9.9        6  \n",
       "4          0.40      9.9        6  \n",
       "...         ...      ...      ...  \n",
       "6492       0.58     10.5        5  \n",
       "6493       0.76     11.2        6  \n",
       "6494       0.75     11.0        6  \n",
       "6495       0.71     10.2        5  \n",
       "6496       0.66     11.0        6  \n",
       "\n",
       "[6497 rows x 13 columns]"
      ]
     },
     "execution_count": 2260,
     "metadata": {},
     "output_type": "execute_result"
    }
   ],
   "source": [
    "df.type = df.type.apply(lambda x: int(x == 'red'))\n",
    "df"
   ]
  },
  {
   "cell_type": "markdown",
   "id": "f029ed05",
   "metadata": {},
   "source": [
    "4. Now that we have all numeric data, we can look at an overview of the data.<br>\n",
    "Write code to __check whether there are NaN__ in any column."
   ]
  },
  {
   "cell_type": "code",
   "execution_count": 2261,
   "id": "184ea772",
   "metadata": {},
   "outputs": [
    {
     "data": {
      "text/plain": [
       "type                    0\n",
       "fixed acidity           0\n",
       "volatile acidity        0\n",
       "citric acid             0\n",
       "residual sugar          0\n",
       "chlorides               0\n",
       "free sulfur dioxide     0\n",
       "total sulfur dioxide    0\n",
       "density                 0\n",
       "pH                      0\n",
       "sulphates               0\n",
       "alcohol                 0\n",
       "quality                 0\n",
       "dtype: int64"
      ]
     },
     "execution_count": 2261,
     "metadata": {},
     "output_type": "execute_result"
    }
   ],
   "source": [
    "df.isna().sum()"
   ]
  },
  {
   "cell_type": "markdown",
   "id": "73f9e36d",
   "metadata": {},
   "source": [
    "5. __Create a plot with subplots to show the distribution of each column of data__.<br>\n",
    "Each subplot is for one column of data.<br>\n",
    "Make sure to have a title for each subplot so show which column it is."
   ]
  },
  {
   "cell_type": "code",
   "execution_count": 2262,
   "id": "dcd485e2",
   "metadata": {},
   "outputs": [
    {
     "data": {
      "image/png": "[encoded data removed]",
      "text/plain": [
       "<Figure size 1152x1296 with 12 Axes>"
      ]
     },
     "metadata": {},
     "output_type": "display_data"
    }
   ],
   "source": [
    "myit = iter(list(df.columns[1:]))\n",
    "fig, axs = plt.subplots(4,3,figsize=(16,18),tight_layout=True)\n",
    "plt.rc('xtick', labelsize=12.5) \n",
    "plt.rc('ytick', labelsize=12.5) \n",
    "plt.subplots_adjust(left=0.125,right=0.9,bottom=0.1,top=0.9,wspace=.2,hspace=.3)\n",
    "title = iter(df.columns[1:])\n",
    "\n",
    "def coloring(n, patches):\n",
    "    height = n / n.max()\n",
    "    norm = clr.Normalize(height.min(),height.max())\n",
    "    for bar_height, bar in zip(height, patches):\n",
    "        bar.set_facecolor(plt.cm.viridis(norm(bar_height)))\n",
    "\n",
    "for i in range(len(axs)):\n",
    "    for j in range(len(axs[i])):\n",
    "        title = next(myit)\n",
    "        axs[i][j].set_title(title,fontsize=18)\n",
    "        n, bins, patches = axs[i][j].hist(df[title],bins=20,ec='black')\n",
    "        coloring(n, patches)\n",
    "\n",
    "\n",
    "plt.show()"
   ]
  },
  {
   "cell_type": "code",
   "execution_count": null,
   "id": "62c6bf30",
   "metadata": {},
   "outputs": [],
   "source": [
    "### nice job with the plots"
   ]
  },
  {
   "cell_type": "markdown",
   "id": "4fce1c2c",
   "metadata": {},
   "source": [
    "6. Observing the distributions, we can see that some, but not all, columns have outliers.<br>\n",
    "Write code to __remove rows with outlier values in any of the columns__<br>\n",
    "Then __print the number of rows and columns__ of the DataFrame after the outliers are removed.\n",
    "\n",
    "Use your judgment when observing the distribution to determine the outlier values that need to be removed.<br>\n",
    "If you have statistical training and you want to write code to determine the exact outlier values to remove, you can do so, but it's not required."
   ]
  },
  {
   "cell_type": "code",
   "execution_count": 2263,
   "id": "fcadd926",
   "metadata": {},
   "outputs": [
    {
     "name": "stdout",
     "output_type": "stream",
     "text": [
      "rows: 4840\n",
      "columns: 13\n"
     ]
    },
    {
     "name": "stderr",
     "output_type": "stream",
     "text": [
      "/var/folders/b2/15kf1gds1n31r7bb_mz7b3km0000gn/T/ipykernel_57801/2920201711.py:5: FutureWarning: Automatic reindexing on DataFrame vs Series comparisons is deprecated and will raise ValueError in a future version.  Do `left, right = left.align(right, axis=1, copy=False)` before e.g. `left == right`\n",
      "  df = df[~((df[df.columns[1:]] < lbound) | (df[df.columns[1:]] > ubound)).any(axis=1)]\n"
     ]
    }
   ],
   "source": [
    "#df = df[(np.abs(stats.zscore(df)) < 3).all(axis=1)]\n",
    "q1, q3 = df.quantile(0.25), df.quantile(0.75)\n",
    "iqr = q3 - q1\n",
    "lbound, ubound = (q1 - 1.5 * iqr), (q3 + 1.5 * iqr)\n",
    "df = df[~((df[df.columns[1:]] < lbound) | (df[df.columns[1:]] > ubound)).any(axis=1)]\n",
    "print('rows: ' + str(df.shape[0]) + '\\ncolumns: ' + str(df.shape[1]))\n",
    "# zscores remove less outliers, but distributions aren't normal (?)"
   ]
  },
  {
   "cell_type": "markdown",
   "id": "459e94f9",
   "metadata": {},
   "source": [
    "7. Now that we've cleaned and prepared the data, it's time to apply an appropriate type of machine learning model to predict the type of wine: red or white.<br>\n",
    "\n",
    "__Create the X and y datasets__<br>\n",
    "Then __print the number of rows and columns__ for X and y."
   ]
  },
  {
   "cell_type": "code",
   "execution_count": 2264,
   "id": "af50bfc0",
   "metadata": {},
   "outputs": [
    {
     "name": "stdout",
     "output_type": "stream",
     "text": [
      "(X) rows: 4840\n",
      "columns: 12\n",
      "(y) rows: 4840\n",
      "columns: 1\n"
     ]
    }
   ],
   "source": [
    "X = df[df.columns[1:]]\n",
    "y = pd.Series(df.type)\n",
    "print('(X) rows: ' + str(X.shape[0]) + '\\ncolumns: ' + str(X.shape[1]))\n",
    "print('(y) rows: ' + str(len(y)) + '\\ncolumns: ' + str(y.ndim))\n"
   ]
  },
  {
   "cell_type": "markdown",
   "id": "1439f296",
   "metadata": {},
   "source": [
    "8. __Create the X and y training and testing datasets__<br>\n",
    "Then __print the number of rows and columns of each set__"
   ]
  },
  {
   "cell_type": "code",
   "execution_count": 2265,
   "id": "2a3de8cb",
   "metadata": {},
   "outputs": [
    {
     "name": "stdout",
     "output_type": "stream",
     "text": [
      "X training: 3630 rows, 12 columns\n",
      "X testing: 1210 rows, 12 columns\n",
      "y training: 3630 rows, 1 columns\n",
      "y testing: 1210 rows, 1 columns\n"
     ]
    }
   ],
   "source": [
    "X_train, X_test, y_train, y_test = train_test_split(X, y, test_size=.25)\n",
    "print('X training: ' + str(X_train.shape[0]) + ' rows, ' + str(X_train.shape[1]) + ' columns')\n",
    "print('X testing: ' + str(X_test.shape[0]) + ' rows, ' + str(X_test.shape[1]) + ' columns')\n",
    "print('y training: ' + str(y_train.shape[0]) + ' rows, ' + str(y_train.ndim) + ' columns')\n",
    "print('y testing: ' + str(y_test.shape[0]) + ' rows, ' + str(y_test.ndim) + ' columns')\n"
   ]
  },
  {
   "cell_type": "markdown",
   "id": "0ccadaf1",
   "metadata": {},
   "source": [
    "9. __Create, train, test, and evaluate the accuracy of _all_ the appropriate machine learning models__ that we've discussed in class to predict the wine type.<br>\n",
    "\n",
    "- It's a good idea to create one or more Code cells for _each_ type of machine learning model.<br>(Don't have one huge Code cell that has all the models, it makes debugging more difficult)\n",
    "- For each model, make sure to show all the accuracy measurements that we've discussed in class for the model.<br>\n",
    "(Hint: there is more than one measurement)"
   ]
  },
  {
   "cell_type": "code",
   "execution_count": 2266,
   "id": "d45735bb",
   "metadata": {},
   "outputs": [
    {
     "name": "stdout",
     "output_type": "stream",
     "text": [
      "Accuracy: 0.9876\n",
      "F1 Score: 0.9877\n",
      "Confusion Matrix:\n",
      " [[1025   10]\n",
      " [   5  170]]\n"
     ]
    },
    {
     "data": {
      "text/html": [
       "<div>\n",
       "<style scoped>\n",
       "    .dataframe tbody tr th:only-of-type {\n",
       "        vertical-align: middle;\n",
       "    }\n",
       "\n",
       "    .dataframe tbody tr th {\n",
       "        vertical-align: top;\n",
       "    }\n",
       "\n",
       "    .dataframe thead th {\n",
       "        text-align: right;\n",
       "    }\n",
       "</style>\n",
       "<table border=\"1\" class=\"dataframe\">\n",
       "  <thead>\n",
       "    <tr style=\"text-align: right;\">\n",
       "      <th></th>\n",
       "      <th>Actual</th>\n",
       "      <th>Predicted</th>\n",
       "    </tr>\n",
       "  </thead>\n",
       "  <tbody>\n",
       "    <tr>\n",
       "      <th>913</th>\n",
       "      <td>0</td>\n",
       "      <td>0</td>\n",
       "    </tr>\n",
       "    <tr>\n",
       "      <th>3400</th>\n",
       "      <td>0</td>\n",
       "      <td>0</td>\n",
       "    </tr>\n",
       "    <tr>\n",
       "      <th>1076</th>\n",
       "      <td>0</td>\n",
       "      <td>0</td>\n",
       "    </tr>\n",
       "    <tr>\n",
       "      <th>4949</th>\n",
       "      <td>1</td>\n",
       "      <td>1</td>\n",
       "    </tr>\n",
       "    <tr>\n",
       "      <th>2867</th>\n",
       "      <td>0</td>\n",
       "      <td>0</td>\n",
       "    </tr>\n",
       "    <tr>\n",
       "      <th>...</th>\n",
       "      <td>...</td>\n",
       "      <td>...</td>\n",
       "    </tr>\n",
       "    <tr>\n",
       "      <th>506</th>\n",
       "      <td>0</td>\n",
       "      <td>0</td>\n",
       "    </tr>\n",
       "    <tr>\n",
       "      <th>2927</th>\n",
       "      <td>0</td>\n",
       "      <td>0</td>\n",
       "    </tr>\n",
       "    <tr>\n",
       "      <th>756</th>\n",
       "      <td>0</td>\n",
       "      <td>0</td>\n",
       "    </tr>\n",
       "    <tr>\n",
       "      <th>5952</th>\n",
       "      <td>1</td>\n",
       "      <td>1</td>\n",
       "    </tr>\n",
       "    <tr>\n",
       "      <th>5852</th>\n",
       "      <td>1</td>\n",
       "      <td>1</td>\n",
       "    </tr>\n",
       "  </tbody>\n",
       "</table>\n",
       "<p>1210 rows × 2 columns</p>\n",
       "</div>"
      ],
      "text/plain": [
       "      Actual  Predicted\n",
       "913        0          0\n",
       "3400       0          0\n",
       "1076       0          0\n",
       "4949       1          1\n",
       "2867       0          0\n",
       "...      ...        ...\n",
       "506        0          0\n",
       "2927       0          0\n",
       "756        0          0\n",
       "5952       1          1\n",
       "5852       1          1\n",
       "\n",
       "[1210 rows x 2 columns]"
      ]
     },
     "execution_count": 2266,
     "metadata": {},
     "output_type": "execute_result"
    }
   ],
   "source": [
    "from sklearn.tree import DecisionTreeClassifier\n",
    "tregr = DecisionTreeClassifier()\n",
    "tregr = tregr.fit(X_train, y_train)\n",
    "y_pred = tregr.predict(X_test)\n",
    "tf = pd.DataFrame({'Actual': y_test, 'Predicted': y_pred})\n",
    "#print(tf.shape)\n",
    "print('Accuracy:', np.round(metrics.accuracy_score(y_test, y_pred),4))\n",
    "print('F1 Score:', np.round(metrics.f1_score(y_test, y_pred, average='weighted'),4))\n",
    "print('Confusion Matrix:\\n',metrics.confusion_matrix(y_test, y_pred, labels=np.arange(0,2)))\n",
    "tf"
   ]
  },
  {
   "cell_type": "code",
   "execution_count": null,
   "id": "ac4b70cf",
   "metadata": {},
   "outputs": [],
   "source": [
    "### don't need to print the comparison DataFrame above, it's too large to be useful\n",
    "### no one will really compare 1200 data points by viewing them"
   ]
  },
  {
   "cell_type": "code",
   "execution_count": 2267,
   "id": "3899f48e",
   "metadata": {},
   "outputs": [
    {
     "name": "stdout",
     "output_type": "stream",
     "text": [
      "Accuracy: 0.9529\n",
      "F1 Score: 0.9521\n",
      "Confusion Matrix:\n",
      " [[1013   22]\n",
      " [  35  140]]\n"
     ]
    },
    {
     "data": {
      "image/png": "[encoded data removed]",
      "text/plain": [
       "<Figure size 576x360 with 1 Axes>"
      ]
     },
     "metadata": {},
     "output_type": "display_data"
    }
   ],
   "source": [
    "from sklearn.neighbors import KNeighborsClassifier\n",
    "classifier = KNeighborsClassifier(n_neighbors = 3)\n",
    "classifier = classifier.fit(X_train, y_train)\n",
    "y_pred = classifier.predict(X_test)\n",
    "kf = pd.DataFrame({'Actual': y_test, 'Predicted':y_pred})\n",
    "#print(tf.shape)\n",
    "print('Accuracy:', np.round(metrics.accuracy_score(y_test, y_pred),4))\n",
    "print('F1 Score:', np.round(metrics.f1_score(y_test, y_pred, average='weighted'),4))\n",
    "print('Confusion Matrix:\\n',metrics.confusion_matrix(y_test, y_pred, labels=np.arange(0,2)))\n",
    "features = pd.DataFrame(tregr.feature_importances_, X.columns, columns=['importance'])\n",
    "errors = []\n",
    "for i in range(1,30):\n",
    "    c = KNeighborsClassifier(n_neighbors = i)\n",
    "    c.fit(X_train, y_train)\n",
    "    y_pred = c.predict(X_test)\n",
    "    errors.append(np.mean(y_pred != y_test))\n",
    "plt.figure(figsize=(8,5))\n",
    "plt.plot(errors,color='seagreen')\n",
    "plt.title('Errors over (N) Neighbors',fontsize=16)\n",
    "plt.ylabel('Mean Error',fontsize=14)\n",
    "plt.xlabel('Number of Neighbors',fontsize=14)\n",
    "plt.show()"
   ]
  },
  {
   "cell_type": "code",
   "execution_count": 2268,
   "id": "9cf5e01a",
   "metadata": {},
   "outputs": [
    {
     "name": "stdout",
     "output_type": "stream",
     "text": [
      "(1210, 2)\n",
      "Accuracy: 0.9926\n",
      "F1 Score: 0.9926\n",
      "Confusion Matrix:\n",
      " [[1031    4]\n",
      " [   5  170]]\n"
     ]
    },
    {
     "data": {
      "text/html": [
       "<div>\n",
       "<style scoped>\n",
       "    .dataframe tbody tr th:only-of-type {\n",
       "        vertical-align: middle;\n",
       "    }\n",
       "\n",
       "    .dataframe tbody tr th {\n",
       "        vertical-align: top;\n",
       "    }\n",
       "\n",
       "    .dataframe thead th {\n",
       "        text-align: right;\n",
       "    }\n",
       "</style>\n",
       "<table border=\"1\" class=\"dataframe\">\n",
       "  <thead>\n",
       "    <tr style=\"text-align: right;\">\n",
       "      <th></th>\n",
       "      <th>Actual</th>\n",
       "      <th>Predicted</th>\n",
       "    </tr>\n",
       "  </thead>\n",
       "  <tbody>\n",
       "    <tr>\n",
       "      <th>913</th>\n",
       "      <td>0</td>\n",
       "      <td>0</td>\n",
       "    </tr>\n",
       "    <tr>\n",
       "      <th>3400</th>\n",
       "      <td>0</td>\n",
       "      <td>0</td>\n",
       "    </tr>\n",
       "    <tr>\n",
       "      <th>1076</th>\n",
       "      <td>0</td>\n",
       "      <td>0</td>\n",
       "    </tr>\n",
       "    <tr>\n",
       "      <th>4949</th>\n",
       "      <td>1</td>\n",
       "      <td>1</td>\n",
       "    </tr>\n",
       "    <tr>\n",
       "      <th>2867</th>\n",
       "      <td>0</td>\n",
       "      <td>0</td>\n",
       "    </tr>\n",
       "    <tr>\n",
       "      <th>...</th>\n",
       "      <td>...</td>\n",
       "      <td>...</td>\n",
       "    </tr>\n",
       "    <tr>\n",
       "      <th>506</th>\n",
       "      <td>0</td>\n",
       "      <td>1</td>\n",
       "    </tr>\n",
       "    <tr>\n",
       "      <th>2927</th>\n",
       "      <td>0</td>\n",
       "      <td>0</td>\n",
       "    </tr>\n",
       "    <tr>\n",
       "      <th>756</th>\n",
       "      <td>0</td>\n",
       "      <td>0</td>\n",
       "    </tr>\n",
       "    <tr>\n",
       "      <th>5952</th>\n",
       "      <td>1</td>\n",
       "      <td>1</td>\n",
       "    </tr>\n",
       "    <tr>\n",
       "      <th>5852</th>\n",
       "      <td>1</td>\n",
       "      <td>1</td>\n",
       "    </tr>\n",
       "  </tbody>\n",
       "</table>\n",
       "<p>1210 rows × 2 columns</p>\n",
       "</div>"
      ],
      "text/plain": [
       "      Actual  Predicted\n",
       "913        0          0\n",
       "3400       0          0\n",
       "1076       0          0\n",
       "4949       1          1\n",
       "2867       0          0\n",
       "...      ...        ...\n",
       "506        0          1\n",
       "2927       0          0\n",
       "756        0          0\n",
       "5952       1          1\n",
       "5852       1          1\n",
       "\n",
       "[1210 rows x 2 columns]"
      ]
     },
     "execution_count": 2268,
     "metadata": {},
     "output_type": "execute_result"
    }
   ],
   "source": [
    "from sklearn.naive_bayes import GaussianNB\n",
    "model = GaussianNB()\n",
    "model = model.fit(X_train, y_train)\n",
    "y_pred = model.predict(X_test)\n",
    "nf = pd.DataFrame({'Actual':y_test, 'Predicted':y_pred})\n",
    "print(nf.shape)\n",
    "print('Accuracy:', np.round(metrics.accuracy_score(y_test, y_pred),4))\n",
    "print('F1 Score:', np.round(metrics.f1_score(y_test, y_pred, average='weighted'),4))\n",
    "print('Confusion Matrix:\\n',metrics.confusion_matrix(y_test, y_pred, labels=np.arange(0,2)))\n",
    "nf"
   ]
  },
  {
   "cell_type": "code",
   "execution_count": null,
   "id": "b54dff6c",
   "metadata": {},
   "outputs": [],
   "source": [
    "### don't need to print the comparison DataFrame above"
   ]
  },
  {
   "cell_type": "markdown",
   "id": "b348feb8",
   "metadata": {},
   "source": [
    "10. Determine the most accurate model from the output of step 9.<br>\n",
    "__Create a Raw NBConvert cell to explain in detail _each_ accuracy number of the most accurate model__."
   ]
  },
  {
   "cell_type": "raw",
   "id": "05260547",
   "metadata": {},
   "source": [
    "From the output of step 9, it appears that the Gaussian NB is the most accurate model for predicting the type of wine.\n",
    "Observing the Metrics.accuracy score, this model seems to be able to reach about 98.5 to 99.5 percent of it's correct conclusions (being red or white wine).\n",
    "\n",
    "While having almost identical results to the accuracy measurement; the f1 score of the Naive Bayes model is able to produce a ratio of about 99:1 correct to incorrect predictions, accounting for it's recall for that specific label. This measurement should be considered useful, since the data is not balanced with the unequal representation of red to white wines.\n",
    "\n",
    "Lastly, the confusion matrix for the classifier has shown that the model will inaccurately label about 3-6 white wines. Conversely, the matrix shows that the model could predict about 1,000 to 1,050 white wines correctly. For its predictions on red wine, the model will miss about 6-8 labels out of it's 160-180 or so correct predictions.\n",
    "\n",
    "This could be due to the fact that again, the data is imbalanced which gives the classifier less information on red wine to predict off of. However, GaussianNB may have been the most successful since the model assumes all features are independant."
   ]
  },
  {
   "cell_type": "code",
   "execution_count": null,
   "id": "f7faadd0",
   "metadata": {},
   "outputs": [],
   "source": [
    "### good analysis"
   ]
  },
  {
   "cell_type": "markdown",
   "id": "d2e9bc39",
   "metadata": {},
   "source": [
    "---"
   ]
  },
  {
   "cell_type": "markdown",
   "id": "2885dd28",
   "metadata": {},
   "source": [
    "__Part B__<br>\n",
    "Using the same cleaned and prepped wine dataset as Part A, use an appropriate type of machine learning model to predict the _alcohol_ percentage in a wine.<br>\n",
    "'Cleaned and prepped' means all NaNs and outliers are accounted for, and all values are numbers."
   ]
  },
  {
   "cell_type": "markdown",
   "id": "5c4274c6",
   "metadata": {},
   "source": [
    "11. __Create the X and y datasets__<br>\n",
    "Then __print the number of rows and columns of each set__\n",
    "and __print the first 5 rows of the X dataset__"
   ]
  },
  {
   "cell_type": "code",
   "execution_count": 2269,
   "id": "e70bdf2c",
   "metadata": {},
   "outputs": [
    {
     "name": "stdout",
     "output_type": "stream",
     "text": [
      "(X) rows: 4840\n",
      "columns: 12\n",
      "(y) rows: 4840\n",
      "columns: 1\n"
     ]
    }
   ],
   "source": [
    "X = df.drop(columns=['alcohol'])\n",
    "y = pd.Series(df.alcohol)\n",
    "print('(X) rows: ' + str(X.shape[0]) + '\\ncolumns: ' + str(X.shape[1]))\n",
    "print('(y) rows: ' + str(len(y)) + '\\ncolumns: ' + str(y.ndim))\n"
   ]
  },
  {
   "cell_type": "markdown",
   "id": "988d7c28",
   "metadata": {},
   "source": [
    "12. __Create the X and y training and testing datasets__<br>\n",
    "Then __print the number of rows and columns of each set__"
   ]
  },
  {
   "cell_type": "code",
   "execution_count": 2270,
   "id": "abba6aaa",
   "metadata": {},
   "outputs": [
    {
     "name": "stdout",
     "output_type": "stream",
     "text": [
      "X training: 3630 rows, 12 columns\n",
      "X testing: 1210 rows, 12 columns\n",
      "y training: 3630 rows, 1 columns\n",
      "y testing: 1210 rows, 1 columns\n"
     ]
    }
   ],
   "source": [
    "X_train, X_test, y_train, y_test = train_test_split(X, y, test_size=.25)\n",
    "print('X training: ' + str(X_train.shape[0]) + ' rows, ' + str(X_train.shape[1]) + ' columns')\n",
    "print('X testing: ' + str(X_test.shape[0]) + ' rows, ' + str(X_test.shape[1]) + ' columns')\n",
    "print('y training: ' + str(y_train.shape[0]) + ' rows, ' + str(y_train.ndim) + ' columns')\n",
    "print('y testing: ' + str(y_test.shape[0]) + ' rows, ' + str(y_test.ndim) + ' columns')"
   ]
  },
  {
   "cell_type": "markdown",
   "id": "9f2b3066",
   "metadata": {},
   "source": [
    "13. __Create and train an appropriate model__ to predict the alcohol percentage of the wine.<br>\n",
    "Then __show the influence of each X feature on the y output__."
   ]
  },
  {
   "cell_type": "code",
   "execution_count": 2271,
   "id": "ab6e3e73",
   "metadata": {},
   "outputs": [
    {
     "name": "stdout",
     "output_type": "stream",
     "text": [
      "                      importance\n",
      "density                   0.6804\n",
      "residual sugar            0.1001\n",
      "fixed acidity             0.0399\n",
      "chlorides                 0.0372\n",
      "type                      0.0289\n",
      "pH                        0.0276\n",
      "sulphates                 0.0261\n",
      "total sulfur dioxide      0.0176\n",
      "citric acid               0.0163\n",
      "volatile acidity          0.0113\n",
      "free sulfur dioxide       0.0112\n",
      "quality                   0.0034\n"
     ]
    }
   ],
   "source": [
    "from sklearn.tree import DecisionTreeRegressor\n",
    "regr = DecisionTreeRegressor()\n",
    "regr = regr.fit(X_train, y_train)\n",
    "features = pd.DataFrame(regr.feature_importances_, X.columns, columns=['importance'])\n",
    "print(np.round(features.sort_values(by=['importance'],ascending=False),4))\n"
   ]
  },
  {
   "cell_type": "markdown",
   "id": "93a58483",
   "metadata": {},
   "source": [
    "14. __Test the model__, then __show the accuracy of the model__.<br>\n",
    "Make sure to show all the accuracy measurements we've discussed in class for this model."
   ]
  },
  {
   "cell_type": "code",
   "execution_count": 2272,
   "id": "662336ec",
   "metadata": {},
   "outputs": [
    {
     "name": "stdout",
     "output_type": "stream",
     "text": [
      "RMSE: 0.507 | 4.82% percent error\n",
      "R^2 Value: 0.953\n"
     ]
    },
    {
     "data": {
      "text/html": [
       "<div>\n",
       "<style scoped>\n",
       "    .dataframe tbody tr th:only-of-type {\n",
       "        vertical-align: middle;\n",
       "    }\n",
       "\n",
       "    .dataframe tbody tr th {\n",
       "        vertical-align: top;\n",
       "    }\n",
       "\n",
       "    .dataframe thead th {\n",
       "        text-align: right;\n",
       "    }\n",
       "</style>\n",
       "<table border=\"1\" class=\"dataframe\">\n",
       "  <thead>\n",
       "    <tr style=\"text-align: right;\">\n",
       "      <th></th>\n",
       "      <th>Actual</th>\n",
       "      <th>Predicted</th>\n",
       "    </tr>\n",
       "  </thead>\n",
       "  <tbody>\n",
       "    <tr>\n",
       "      <th>2126</th>\n",
       "      <td>9.3</td>\n",
       "      <td>8.7</td>\n",
       "    </tr>\n",
       "    <tr>\n",
       "      <th>4956</th>\n",
       "      <td>10.0</td>\n",
       "      <td>9.7</td>\n",
       "    </tr>\n",
       "    <tr>\n",
       "      <th>4154</th>\n",
       "      <td>9.6</td>\n",
       "      <td>10.1</td>\n",
       "    </tr>\n",
       "    <tr>\n",
       "      <th>728</th>\n",
       "      <td>10.5</td>\n",
       "      <td>9.5</td>\n",
       "    </tr>\n",
       "    <tr>\n",
       "      <th>504</th>\n",
       "      <td>8.9</td>\n",
       "      <td>9.0</td>\n",
       "    </tr>\n",
       "    <tr>\n",
       "      <th>...</th>\n",
       "      <td>...</td>\n",
       "      <td>...</td>\n",
       "    </tr>\n",
       "    <tr>\n",
       "      <th>3504</th>\n",
       "      <td>11.5</td>\n",
       "      <td>11.5</td>\n",
       "    </tr>\n",
       "    <tr>\n",
       "      <th>2623</th>\n",
       "      <td>10.3</td>\n",
       "      <td>10.3</td>\n",
       "    </tr>\n",
       "    <tr>\n",
       "      <th>4</th>\n",
       "      <td>9.9</td>\n",
       "      <td>9.9</td>\n",
       "    </tr>\n",
       "    <tr>\n",
       "      <th>737</th>\n",
       "      <td>9.2</td>\n",
       "      <td>9.4</td>\n",
       "    </tr>\n",
       "    <tr>\n",
       "      <th>1107</th>\n",
       "      <td>12.6</td>\n",
       "      <td>12.6</td>\n",
       "    </tr>\n",
       "  </tbody>\n",
       "</table>\n",
       "<p>1210 rows × 2 columns</p>\n",
       "</div>"
      ],
      "text/plain": [
       "      Actual  Predicted\n",
       "2126     9.3        8.7\n",
       "4956    10.0        9.7\n",
       "4154     9.6       10.1\n",
       "728     10.5        9.5\n",
       "504      8.9        9.0\n",
       "...      ...        ...\n",
       "3504    11.5       11.5\n",
       "2623    10.3       10.3\n",
       "4        9.9        9.9\n",
       "737      9.2        9.4\n",
       "1107    12.6       12.6\n",
       "\n",
       "[1210 rows x 2 columns]"
      ]
     },
     "execution_count": 2272,
     "metadata": {},
     "output_type": "execute_result"
    }
   ],
   "source": [
    "y_pred = regr.predict(X_test)\n",
    "treef = pd.DataFrame({'Actual':y_test, 'Predicted':y_pred})\n",
    "RMSE = np.sqrt(metrics.mean_squared_error(y_test, y_pred))\n",
    "print('RMSE:', np.round(RMSE,3),'|', f'{RMSE/np.mean(y):.2%}', 'percent error')\n",
    "print('R^2 Value:', np.round(regr.score(X,y),3))\n",
    "treef\n"
   ]
  },
  {
   "cell_type": "code",
   "execution_count": null,
   "id": "31c6560f",
   "metadata": {},
   "outputs": [],
   "source": [
    "### don't need to print the comparison DataFrame above"
   ]
  },
  {
   "cell_type": "markdown",
   "id": "0faa42db",
   "metadata": {},
   "source": [
    "15a. Based on the output of step 13, determine which X feature has the most influence in predicting the alcohol level.<br>\n",
    "Then __use an appropriate plot to show the correlation between this X feature and the y label__"
   ]
  },
  {
   "cell_type": "code",
   "execution_count": 2273,
   "id": "afecc103",
   "metadata": {},
   "outputs": [
    {
     "data": {
      "image/png": "[encoded data removed]",
      "text/plain": [
       "<Figure size 864x504 with 1 Axes>"
      ]
     },
     "metadata": {},
     "output_type": "display_data"
    },
    {
     "data": {
      "text/plain": [
       "335.07781428672916"
      ]
     },
     "execution_count": 2273,
     "metadata": {},
     "output_type": "execute_result"
    }
   ],
   "source": [
    "from scipy import stats\n",
    "line = stats.linregress(X.density, y)\n",
    "fig = plt.figure(figsize=(12,7))\n",
    "plt.title('Density & Alcohol',fontsize=18)\n",
    "plt.ylabel('% Alcohol',fontsize=15)\n",
    "plt.xlabel('Density',fontsize=15)\n",
    "plt.plot(X.density,(line.intercept + line.slope * X.density),lw=2,color='teal',alpha=.5)\n",
    "plt.scatter(X.density, y, color = 'goldenrod', lw=0.1, ec='white')\n",
    "plt.show()\n",
    "line.intercept\n"
   ]
  },
  {
   "cell_type": "markdown",
   "id": "8d5be1c0",
   "metadata": {},
   "source": [
    "15b. __Create a Raw NBConvert cell to explain whether the plot agrees with the output of step 13 for this X feature__"
   ]
  },
  {
   "cell_type": "raw",
   "id": "54062105",
   "metadata": {},
   "source": [
    "The plot above does agree with the X feature, since the importance of density consists of over 60% of all contributions. This could explain why the plot is widely spread, but still displays a correlation between high alcohol and low density levels. This agrees with step 13, since the importance value of every other column would result in no discernible shape besides the one made with density. \n",
    "\n",
    "Observing the line above, the intercept seems to be set slightly towards values with lower alcohol, below the 13% range. Furthermore, the data points that lie above this range appear to be more thinly spread when compared to points below the line.\n",
    "This could suggest that the plot would agree with the 'actual' and 'predicted' dataframe in step 14. The predicted labels are most accurate for a range between 9 to 12.5 percent alcohol, which is where most of the data points on the plot are congested.\n",
    "\n",
    "On a side note, I chose to use the DecisionTreeRegressor model since there are multiple X features, of which only one would share a relationship with the alcohol label. While linear regression could provide more information on the directional influence (i.e negative or positive coefficients), it would poorly explain why the spread of data is as wide as it is."
   ]
  },
  {
   "cell_type": "markdown",
   "id": "e2b5ad65",
   "metadata": {},
   "source": [
    "16. Using the same X and y training and testing datasets as step 12, __create, train, test, and find the accuracy of another model__ that can predict the alcohol level of the wine."
   ]
  },
  {
   "cell_type": "code",
   "execution_count": 2274,
   "id": "40640e3c",
   "metadata": {},
   "outputs": [
    {
     "name": "stdout",
     "output_type": "stream",
     "text": [
      "RMSE: 0.396 | 3.76% percent error\n",
      "R^2: 0.892\n"
     ]
    },
    {
     "data": {
      "text/html": [
       "<div>\n",
       "<style scoped>\n",
       "    .dataframe tbody tr th:only-of-type {\n",
       "        vertical-align: middle;\n",
       "    }\n",
       "\n",
       "    .dataframe tbody tr th {\n",
       "        vertical-align: top;\n",
       "    }\n",
       "\n",
       "    .dataframe thead th {\n",
       "        text-align: right;\n",
       "    }\n",
       "</style>\n",
       "<table border=\"1\" class=\"dataframe\">\n",
       "  <thead>\n",
       "    <tr style=\"text-align: right;\">\n",
       "      <th></th>\n",
       "      <th>Actual</th>\n",
       "      <th>Predicted</th>\n",
       "    </tr>\n",
       "  </thead>\n",
       "  <tbody>\n",
       "    <tr>\n",
       "      <th>2126</th>\n",
       "      <td>9.3</td>\n",
       "      <td>8.88</td>\n",
       "    </tr>\n",
       "    <tr>\n",
       "      <th>4956</th>\n",
       "      <td>10.0</td>\n",
       "      <td>9.66</td>\n",
       "    </tr>\n",
       "    <tr>\n",
       "      <th>4154</th>\n",
       "      <td>9.6</td>\n",
       "      <td>9.65</td>\n",
       "    </tr>\n",
       "    <tr>\n",
       "      <th>728</th>\n",
       "      <td>10.5</td>\n",
       "      <td>9.88</td>\n",
       "    </tr>\n",
       "    <tr>\n",
       "      <th>504</th>\n",
       "      <td>8.9</td>\n",
       "      <td>9.22</td>\n",
       "    </tr>\n",
       "    <tr>\n",
       "      <th>...</th>\n",
       "      <td>...</td>\n",
       "      <td>...</td>\n",
       "    </tr>\n",
       "    <tr>\n",
       "      <th>3504</th>\n",
       "      <td>11.5</td>\n",
       "      <td>11.70</td>\n",
       "    </tr>\n",
       "    <tr>\n",
       "      <th>2623</th>\n",
       "      <td>10.3</td>\n",
       "      <td>10.68</td>\n",
       "    </tr>\n",
       "    <tr>\n",
       "      <th>4</th>\n",
       "      <td>9.9</td>\n",
       "      <td>10.00</td>\n",
       "    </tr>\n",
       "    <tr>\n",
       "      <th>737</th>\n",
       "      <td>9.2</td>\n",
       "      <td>9.55</td>\n",
       "    </tr>\n",
       "    <tr>\n",
       "      <th>1107</th>\n",
       "      <td>12.6</td>\n",
       "      <td>12.64</td>\n",
       "    </tr>\n",
       "  </tbody>\n",
       "</table>\n",
       "<p>1210 rows × 2 columns</p>\n",
       "</div>"
      ],
      "text/plain": [
       "      Actual  Predicted\n",
       "2126     9.3       8.88\n",
       "4956    10.0       9.66\n",
       "4154     9.6       9.65\n",
       "728     10.5       9.88\n",
       "504      8.9       9.22\n",
       "...      ...        ...\n",
       "3504    11.5      11.70\n",
       "2623    10.3      10.68\n",
       "4        9.9      10.00\n",
       "737      9.2       9.55\n",
       "1107    12.6      12.64\n",
       "\n",
       "[1210 rows x 2 columns]"
      ]
     },
     "execution_count": 2274,
     "metadata": {},
     "output_type": "execute_result"
    }
   ],
   "source": [
    "regr = lm.LinearRegression()\n",
    "regr = regr.fit(X_train, y_train)\n",
    "y_pred = regr.predict(X_test)\n",
    "lf = pd.DataFrame({'Actual': y_test, 'Predicted': np.round(y_pred,2)})\n",
    "RMSE = np.sqrt(metrics.mean_squared_error(y_test, y_pred))\n",
    "print('RMSE:', np.round(RMSE,3),'|', f'{RMSE/np.mean(y):.2%}', 'percent error')\n",
    "print('R^2:', np.round(regr.score(X,y),3))\n",
    "lf\n",
    "            "
   ]
  },
  {
   "cell_type": "code",
   "execution_count": null,
   "id": "d44141cb",
   "metadata": {},
   "outputs": [],
   "source": [
    "### don't need to print the comparison DataFrame above"
   ]
  },
  {
   "cell_type": "markdown",
   "id": "ed2efc3e",
   "metadata": {},
   "source": [
    "17. __Show the contribution of each X feature on the y output__.<br>\n",
    "Then __Create a Raw NBConvert Cell to explain whether the most influential X feature is the same one as in the previous model__."
   ]
  },
  {
   "cell_type": "code",
   "execution_count": 2275,
   "id": "ebdcfe40",
   "metadata": {},
   "outputs": [
    {
     "data": {
      "text/html": [
       "<div>\n",
       "<style scoped>\n",
       "    .dataframe tbody tr th:only-of-type {\n",
       "        vertical-align: middle;\n",
       "    }\n",
       "\n",
       "    .dataframe tbody tr th {\n",
       "        vertical-align: top;\n",
       "    }\n",
       "\n",
       "    .dataframe thead th {\n",
       "        text-align: right;\n",
       "    }\n",
       "</style>\n",
       "<table border=\"1\" class=\"dataframe\">\n",
       "  <thead>\n",
       "    <tr style=\"text-align: right;\">\n",
       "      <th></th>\n",
       "      <th>Coefficient</th>\n",
       "    </tr>\n",
       "  </thead>\n",
       "  <tbody>\n",
       "    <tr>\n",
       "      <th>density</th>\n",
       "      <td>-729.944573</td>\n",
       "    </tr>\n",
       "    <tr>\n",
       "      <th>chlorides</th>\n",
       "      <td>2.792666</td>\n",
       "    </tr>\n",
       "    <tr>\n",
       "      <th>pH</th>\n",
       "      <td>2.480995</td>\n",
       "    </tr>\n",
       "    <tr>\n",
       "      <th>type</th>\n",
       "      <td>1.346790</td>\n",
       "    </tr>\n",
       "    <tr>\n",
       "      <th>sulphates</th>\n",
       "      <td>1.103076</td>\n",
       "    </tr>\n",
       "    <tr>\n",
       "      <th>citric acid</th>\n",
       "      <td>0.592745</td>\n",
       "    </tr>\n",
       "    <tr>\n",
       "      <th>volatile acidity</th>\n",
       "      <td>0.588001</td>\n",
       "    </tr>\n",
       "    <tr>\n",
       "      <th>fixed acidity</th>\n",
       "      <td>0.548738</td>\n",
       "    </tr>\n",
       "    <tr>\n",
       "      <th>residual sugar</th>\n",
       "      <td>0.246887</td>\n",
       "    </tr>\n",
       "    <tr>\n",
       "      <th>quality</th>\n",
       "      <td>0.033779</td>\n",
       "    </tr>\n",
       "    <tr>\n",
       "      <th>free sulfur dioxide</th>\n",
       "      <td>-0.003396</td>\n",
       "    </tr>\n",
       "    <tr>\n",
       "      <th>total sulfur dioxide</th>\n",
       "      <td>0.001133</td>\n",
       "    </tr>\n",
       "  </tbody>\n",
       "</table>\n",
       "</div>"
      ],
      "text/plain": [
       "                      Coefficient\n",
       "density               -729.944573\n",
       "chlorides                2.792666\n",
       "pH                       2.480995\n",
       "type                     1.346790\n",
       "sulphates                1.103076\n",
       "citric acid              0.592745\n",
       "volatile acidity         0.588001\n",
       "fixed acidity            0.548738\n",
       "residual sugar           0.246887\n",
       "quality                  0.033779\n",
       "free sulfur dioxide     -0.003396\n",
       "total sulfur dioxide     0.001133"
      ]
     },
     "execution_count": 2275,
     "metadata": {},
     "output_type": "execute_result"
    }
   ],
   "source": [
    "coeff = pd.DataFrame(regr.coef_, X.columns, columns=['Coefficient'])\n",
    "coeff.sort_values(by=['Coefficient'], key=abs, ascending=False)\n"
   ]
  },
  {
   "cell_type": "raw",
   "id": "e76590bf",
   "metadata": {},
   "source": [
    "Through observation of each coefficient given by the model above, the density coefficient continues to be the most influential X feature on the model's predictions for y. This further supports the scatter plot shown in step 15a, since the data shares a downward correlation between alcohol percentage and density with a coefficient of about -700.\n",
    "\n",
    "However, when comparing the importance values given by DecisionTreeRegressor() with the coefficients given by LinearRegression(), it appears that the density feature holds much more influence on any predictions when using linear regression. According to the decision tree's importance values, density will contribute about 64 to 68% of the model's decidability, while other features such as residual sugar and type will trail behind by about 50 - 60%. \n",
    "\n",
    "This gap in influence is large, but the coefficients given by the linear regression model have shown that all other features besides density (residual sugar, type, ect..) have even less of an impact. In fact, the only feature that preserves it's order between importance values and coefficients is density, all others being insignificant or rearranged."
   ]
  },
  {
   "cell_type": "code",
   "execution_count": null,
   "id": "b5ad8376",
   "metadata": {},
   "outputs": [],
   "source": [
    "### great job with the analyses and plots throughout the notebook"
   ]
  }
 ],
 "metadata": {
  "kernelspec": {
   "display_name": "Python 3 (ipykernel)",
   "language": "python",
   "name": "python3"
  },
  "language_info": {
   "codemirror_mode": {
    "name": "ipython",
    "version": 3
   },
   "file_extension": ".py",
   "mimetype": "text/x-python",
   "name": "python",
   "nbconvert_exporter": "python",
   "pygments_lexer": "ipython3",
   "version": "3.9.7"
  }
 },
 "nbformat": 4,
 "nbformat_minor": 5
}
